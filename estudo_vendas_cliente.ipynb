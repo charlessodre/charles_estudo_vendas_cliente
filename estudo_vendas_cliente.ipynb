{
 "cells": [
  {
   "cell_type": "markdown",
   "metadata": {},
   "source": [
    "# Introdução\n",
    "\n",
    "<h3> ** O principal objetivo deste notebook é praticar o uso do python para análise de dados e uso de alguns modelos de classificação do scikit-learn. ** </h3>\n",
    "\n",
    "\n",
    "\n",
    "<h4> Abaixo estão as descrições dos atributos do Dataset: </h4>\n",
    "    \n",
    "    "
   ]
  },
  {
   "cell_type": "markdown",
   "metadata": {},
   "source": [
    "# Iniciando a Importação e Análise Exploratória de Dados."
   ]
  },
  {
   "cell_type": "code",
   "execution_count": 1,
   "metadata": {},
   "outputs": [],
   "source": [
    "# Carregando as bibliotecas iniciais\n",
    "import pandas as pd \n",
    "import numpy as np\n",
    "import matplotlib\n",
    "import matplotlib.pyplot as plt\n",
    "import squarify\n",
    "import seaborn as sns \n",
    "import datetime\n",
    "\n",
    "\n",
    "#import plotly.tools as tools\n",
    "\n",
    "import plotly.graph_objects as go\n",
    "from plotly.graph_objs import *\n",
    "from plotly.subplots import make_subplots\n"
   ]
  },
  {
   "cell_type": "code",
   "execution_count": 2,
   "metadata": {},
   "outputs": [],
   "source": [
    "# Defina algumas configurções dos dataframes.\n",
    "pd.set_option('display.max_rows', 500)\n",
    "pd.set_option('display.max_columns', 500)\n",
    "pd.set_option('display.width', 1000)"
   ]
  },
  {
   "cell_type": "code",
   "execution_count": 3,
   "metadata": {},
   "outputs": [
    {
     "data": {
      "text/plain": [
       "(2240, 29)"
      ]
     },
     "execution_count": 3,
     "metadata": {},
     "output_type": "execute_result"
    }
   ],
   "source": [
    "# Importando o DataSet e definindo as colunas do dataframe.\n",
    "df_full = pd.read_csv('./ml_project1_data.csv', sep=',')\n",
    "\n",
    "# Visualizando as dimensões do dataset original\n",
    "df_full.shape"
   ]
  },
  {
   "cell_type": "code",
   "execution_count": 4,
   "metadata": {},
   "outputs": [
    {
     "data": {
      "text/html": [
       "<div>\n",
       "<style scoped>\n",
       "    .dataframe tbody tr th:only-of-type {\n",
       "        vertical-align: middle;\n",
       "    }\n",
       "\n",
       "    .dataframe tbody tr th {\n",
       "        vertical-align: top;\n",
       "    }\n",
       "\n",
       "    .dataframe thead th {\n",
       "        text-align: right;\n",
       "    }\n",
       "</style>\n",
       "<table border=\"1\" class=\"dataframe\">\n",
       "  <thead>\n",
       "    <tr style=\"text-align: right;\">\n",
       "      <th></th>\n",
       "      <th>ID</th>\n",
       "      <th>Year_Birth</th>\n",
       "      <th>Education</th>\n",
       "      <th>Marital_Status</th>\n",
       "      <th>Income</th>\n",
       "      <th>Kidhome</th>\n",
       "      <th>Teenhome</th>\n",
       "      <th>Dt_Customer</th>\n",
       "      <th>Recency</th>\n",
       "      <th>MntWines</th>\n",
       "      <th>MntFruits</th>\n",
       "      <th>MntMeatProducts</th>\n",
       "      <th>MntFishProducts</th>\n",
       "      <th>MntSweetProducts</th>\n",
       "      <th>MntGoldProds</th>\n",
       "      <th>NumDealsPurchases</th>\n",
       "      <th>NumWebPurchases</th>\n",
       "      <th>NumCatalogPurchases</th>\n",
       "      <th>NumStorePurchases</th>\n",
       "      <th>NumWebVisitsMonth</th>\n",
       "      <th>AcceptedCmp3</th>\n",
       "      <th>AcceptedCmp4</th>\n",
       "      <th>AcceptedCmp5</th>\n",
       "      <th>AcceptedCmp1</th>\n",
       "      <th>AcceptedCmp2</th>\n",
       "      <th>Complain</th>\n",
       "      <th>Z_CostContact</th>\n",
       "      <th>Z_Revenue</th>\n",
       "      <th>Response</th>\n",
       "    </tr>\n",
       "  </thead>\n",
       "  <tbody>\n",
       "    <tr>\n",
       "      <th>0</th>\n",
       "      <td>5524</td>\n",
       "      <td>1957</td>\n",
       "      <td>Graduation</td>\n",
       "      <td>Single</td>\n",
       "      <td>58138.0</td>\n",
       "      <td>0</td>\n",
       "      <td>0</td>\n",
       "      <td>2012-09-04</td>\n",
       "      <td>58</td>\n",
       "      <td>635</td>\n",
       "      <td>88</td>\n",
       "      <td>546</td>\n",
       "      <td>172</td>\n",
       "      <td>88</td>\n",
       "      <td>88</td>\n",
       "      <td>3</td>\n",
       "      <td>8</td>\n",
       "      <td>10</td>\n",
       "      <td>4</td>\n",
       "      <td>7</td>\n",
       "      <td>0</td>\n",
       "      <td>0</td>\n",
       "      <td>0</td>\n",
       "      <td>0</td>\n",
       "      <td>0</td>\n",
       "      <td>0</td>\n",
       "      <td>3</td>\n",
       "      <td>11</td>\n",
       "      <td>1</td>\n",
       "    </tr>\n",
       "    <tr>\n",
       "      <th>1</th>\n",
       "      <td>2174</td>\n",
       "      <td>1954</td>\n",
       "      <td>Graduation</td>\n",
       "      <td>Single</td>\n",
       "      <td>46344.0</td>\n",
       "      <td>1</td>\n",
       "      <td>1</td>\n",
       "      <td>2014-03-08</td>\n",
       "      <td>38</td>\n",
       "      <td>11</td>\n",
       "      <td>1</td>\n",
       "      <td>6</td>\n",
       "      <td>2</td>\n",
       "      <td>1</td>\n",
       "      <td>6</td>\n",
       "      <td>2</td>\n",
       "      <td>1</td>\n",
       "      <td>1</td>\n",
       "      <td>2</td>\n",
       "      <td>5</td>\n",
       "      <td>0</td>\n",
       "      <td>0</td>\n",
       "      <td>0</td>\n",
       "      <td>0</td>\n",
       "      <td>0</td>\n",
       "      <td>0</td>\n",
       "      <td>3</td>\n",
       "      <td>11</td>\n",
       "      <td>0</td>\n",
       "    </tr>\n",
       "    <tr>\n",
       "      <th>2</th>\n",
       "      <td>4141</td>\n",
       "      <td>1965</td>\n",
       "      <td>Graduation</td>\n",
       "      <td>Together</td>\n",
       "      <td>71613.0</td>\n",
       "      <td>0</td>\n",
       "      <td>0</td>\n",
       "      <td>2013-08-21</td>\n",
       "      <td>26</td>\n",
       "      <td>426</td>\n",
       "      <td>49</td>\n",
       "      <td>127</td>\n",
       "      <td>111</td>\n",
       "      <td>21</td>\n",
       "      <td>42</td>\n",
       "      <td>1</td>\n",
       "      <td>8</td>\n",
       "      <td>2</td>\n",
       "      <td>10</td>\n",
       "      <td>4</td>\n",
       "      <td>0</td>\n",
       "      <td>0</td>\n",
       "      <td>0</td>\n",
       "      <td>0</td>\n",
       "      <td>0</td>\n",
       "      <td>0</td>\n",
       "      <td>3</td>\n",
       "      <td>11</td>\n",
       "      <td>0</td>\n",
       "    </tr>\n",
       "    <tr>\n",
       "      <th>3</th>\n",
       "      <td>6182</td>\n",
       "      <td>1984</td>\n",
       "      <td>Graduation</td>\n",
       "      <td>Together</td>\n",
       "      <td>26646.0</td>\n",
       "      <td>1</td>\n",
       "      <td>0</td>\n",
       "      <td>2014-02-10</td>\n",
       "      <td>26</td>\n",
       "      <td>11</td>\n",
       "      <td>4</td>\n",
       "      <td>20</td>\n",
       "      <td>10</td>\n",
       "      <td>3</td>\n",
       "      <td>5</td>\n",
       "      <td>2</td>\n",
       "      <td>2</td>\n",
       "      <td>0</td>\n",
       "      <td>4</td>\n",
       "      <td>6</td>\n",
       "      <td>0</td>\n",
       "      <td>0</td>\n",
       "      <td>0</td>\n",
       "      <td>0</td>\n",
       "      <td>0</td>\n",
       "      <td>0</td>\n",
       "      <td>3</td>\n",
       "      <td>11</td>\n",
       "      <td>0</td>\n",
       "    </tr>\n",
       "    <tr>\n",
       "      <th>4</th>\n",
       "      <td>5324</td>\n",
       "      <td>1981</td>\n",
       "      <td>PhD</td>\n",
       "      <td>Married</td>\n",
       "      <td>58293.0</td>\n",
       "      <td>1</td>\n",
       "      <td>0</td>\n",
       "      <td>2014-01-19</td>\n",
       "      <td>94</td>\n",
       "      <td>173</td>\n",
       "      <td>43</td>\n",
       "      <td>118</td>\n",
       "      <td>46</td>\n",
       "      <td>27</td>\n",
       "      <td>15</td>\n",
       "      <td>5</td>\n",
       "      <td>5</td>\n",
       "      <td>3</td>\n",
       "      <td>6</td>\n",
       "      <td>5</td>\n",
       "      <td>0</td>\n",
       "      <td>0</td>\n",
       "      <td>0</td>\n",
       "      <td>0</td>\n",
       "      <td>0</td>\n",
       "      <td>0</td>\n",
       "      <td>3</td>\n",
       "      <td>11</td>\n",
       "      <td>0</td>\n",
       "    </tr>\n",
       "  </tbody>\n",
       "</table>\n",
       "</div>"
      ],
      "text/plain": [
       "     ID  Year_Birth   Education Marital_Status   Income  Kidhome  Teenhome Dt_Customer  Recency  MntWines  MntFruits  MntMeatProducts  MntFishProducts  MntSweetProducts  MntGoldProds  NumDealsPurchases  NumWebPurchases  NumCatalogPurchases  NumStorePurchases  NumWebVisitsMonth  AcceptedCmp3  AcceptedCmp4  AcceptedCmp5  AcceptedCmp1  AcceptedCmp2  Complain  Z_CostContact  Z_Revenue  Response\n",
       "0  5524        1957  Graduation         Single  58138.0        0         0  2012-09-04       58       635         88              546              172                88            88                  3                8                   10                  4                  7             0             0             0             0             0         0              3         11         1\n",
       "1  2174        1954  Graduation         Single  46344.0        1         1  2014-03-08       38        11          1                6                2                 1             6                  2                1                    1                  2                  5             0             0             0             0             0         0              3         11         0\n",
       "2  4141        1965  Graduation       Together  71613.0        0         0  2013-08-21       26       426         49              127              111                21            42                  1                8                    2                 10                  4             0             0             0             0             0         0              3         11         0\n",
       "3  6182        1984  Graduation       Together  26646.0        1         0  2014-02-10       26        11          4               20               10                 3             5                  2                2                    0                  4                  6             0             0             0             0             0         0              3         11         0\n",
       "4  5324        1981         PhD        Married  58293.0        1         0  2014-01-19       94       173         43              118               46                27            15                  5                5                    3                  6                  5             0             0             0             0             0         0              3         11         0"
      ]
     },
     "execution_count": 4,
     "metadata": {},
     "output_type": "execute_result"
    }
   ],
   "source": [
    "# Olhando as primeiras linhas \n",
    "df_full.head()"
   ]
  },
  {
   "cell_type": "code",
   "execution_count": 5,
   "metadata": {},
   "outputs": [
    {
     "data": {
      "text/html": [
       "<div>\n",
       "<style scoped>\n",
       "    .dataframe tbody tr th:only-of-type {\n",
       "        vertical-align: middle;\n",
       "    }\n",
       "\n",
       "    .dataframe tbody tr th {\n",
       "        vertical-align: top;\n",
       "    }\n",
       "\n",
       "    .dataframe thead th {\n",
       "        text-align: right;\n",
       "    }\n",
       "</style>\n",
       "<table border=\"1\" class=\"dataframe\">\n",
       "  <thead>\n",
       "    <tr style=\"text-align: right;\">\n",
       "      <th></th>\n",
       "      <th>count</th>\n",
       "      <th>mean</th>\n",
       "      <th>std</th>\n",
       "      <th>min</th>\n",
       "      <th>25%</th>\n",
       "      <th>50%</th>\n",
       "      <th>75%</th>\n",
       "      <th>max</th>\n",
       "    </tr>\n",
       "  </thead>\n",
       "  <tbody>\n",
       "    <tr>\n",
       "      <th>ID</th>\n",
       "      <td>2240.0</td>\n",
       "      <td>5592.159821</td>\n",
       "      <td>3246.662198</td>\n",
       "      <td>0.0</td>\n",
       "      <td>2828.25</td>\n",
       "      <td>5458.5</td>\n",
       "      <td>8427.75</td>\n",
       "      <td>11191.0</td>\n",
       "    </tr>\n",
       "    <tr>\n",
       "      <th>Year_Birth</th>\n",
       "      <td>2240.0</td>\n",
       "      <td>1968.805804</td>\n",
       "      <td>11.984069</td>\n",
       "      <td>1893.0</td>\n",
       "      <td>1959.00</td>\n",
       "      <td>1970.0</td>\n",
       "      <td>1977.00</td>\n",
       "      <td>1996.0</td>\n",
       "    </tr>\n",
       "    <tr>\n",
       "      <th>Income</th>\n",
       "      <td>2216.0</td>\n",
       "      <td>52247.251354</td>\n",
       "      <td>25173.076661</td>\n",
       "      <td>1730.0</td>\n",
       "      <td>35303.00</td>\n",
       "      <td>51381.5</td>\n",
       "      <td>68522.00</td>\n",
       "      <td>666666.0</td>\n",
       "    </tr>\n",
       "    <tr>\n",
       "      <th>Kidhome</th>\n",
       "      <td>2240.0</td>\n",
       "      <td>0.444196</td>\n",
       "      <td>0.538398</td>\n",
       "      <td>0.0</td>\n",
       "      <td>0.00</td>\n",
       "      <td>0.0</td>\n",
       "      <td>1.00</td>\n",
       "      <td>2.0</td>\n",
       "    </tr>\n",
       "    <tr>\n",
       "      <th>Teenhome</th>\n",
       "      <td>2240.0</td>\n",
       "      <td>0.506250</td>\n",
       "      <td>0.544538</td>\n",
       "      <td>0.0</td>\n",
       "      <td>0.00</td>\n",
       "      <td>0.0</td>\n",
       "      <td>1.00</td>\n",
       "      <td>2.0</td>\n",
       "    </tr>\n",
       "    <tr>\n",
       "      <th>Recency</th>\n",
       "      <td>2240.0</td>\n",
       "      <td>49.109375</td>\n",
       "      <td>28.962453</td>\n",
       "      <td>0.0</td>\n",
       "      <td>24.00</td>\n",
       "      <td>49.0</td>\n",
       "      <td>74.00</td>\n",
       "      <td>99.0</td>\n",
       "    </tr>\n",
       "    <tr>\n",
       "      <th>MntWines</th>\n",
       "      <td>2240.0</td>\n",
       "      <td>303.935714</td>\n",
       "      <td>336.597393</td>\n",
       "      <td>0.0</td>\n",
       "      <td>23.75</td>\n",
       "      <td>173.5</td>\n",
       "      <td>504.25</td>\n",
       "      <td>1493.0</td>\n",
       "    </tr>\n",
       "    <tr>\n",
       "      <th>MntFruits</th>\n",
       "      <td>2240.0</td>\n",
       "      <td>26.302232</td>\n",
       "      <td>39.773434</td>\n",
       "      <td>0.0</td>\n",
       "      <td>1.00</td>\n",
       "      <td>8.0</td>\n",
       "      <td>33.00</td>\n",
       "      <td>199.0</td>\n",
       "    </tr>\n",
       "    <tr>\n",
       "      <th>MntMeatProducts</th>\n",
       "      <td>2240.0</td>\n",
       "      <td>166.950000</td>\n",
       "      <td>225.715373</td>\n",
       "      <td>0.0</td>\n",
       "      <td>16.00</td>\n",
       "      <td>67.0</td>\n",
       "      <td>232.00</td>\n",
       "      <td>1725.0</td>\n",
       "    </tr>\n",
       "    <tr>\n",
       "      <th>MntFishProducts</th>\n",
       "      <td>2240.0</td>\n",
       "      <td>37.525446</td>\n",
       "      <td>54.628979</td>\n",
       "      <td>0.0</td>\n",
       "      <td>3.00</td>\n",
       "      <td>12.0</td>\n",
       "      <td>50.00</td>\n",
       "      <td>259.0</td>\n",
       "    </tr>\n",
       "    <tr>\n",
       "      <th>MntSweetProducts</th>\n",
       "      <td>2240.0</td>\n",
       "      <td>27.062946</td>\n",
       "      <td>41.280498</td>\n",
       "      <td>0.0</td>\n",
       "      <td>1.00</td>\n",
       "      <td>8.0</td>\n",
       "      <td>33.00</td>\n",
       "      <td>263.0</td>\n",
       "    </tr>\n",
       "    <tr>\n",
       "      <th>MntGoldProds</th>\n",
       "      <td>2240.0</td>\n",
       "      <td>44.021875</td>\n",
       "      <td>52.167439</td>\n",
       "      <td>0.0</td>\n",
       "      <td>9.00</td>\n",
       "      <td>24.0</td>\n",
       "      <td>56.00</td>\n",
       "      <td>362.0</td>\n",
       "    </tr>\n",
       "    <tr>\n",
       "      <th>NumDealsPurchases</th>\n",
       "      <td>2240.0</td>\n",
       "      <td>2.325000</td>\n",
       "      <td>1.932238</td>\n",
       "      <td>0.0</td>\n",
       "      <td>1.00</td>\n",
       "      <td>2.0</td>\n",
       "      <td>3.00</td>\n",
       "      <td>15.0</td>\n",
       "    </tr>\n",
       "    <tr>\n",
       "      <th>NumWebPurchases</th>\n",
       "      <td>2240.0</td>\n",
       "      <td>4.084821</td>\n",
       "      <td>2.778714</td>\n",
       "      <td>0.0</td>\n",
       "      <td>2.00</td>\n",
       "      <td>4.0</td>\n",
       "      <td>6.00</td>\n",
       "      <td>27.0</td>\n",
       "    </tr>\n",
       "    <tr>\n",
       "      <th>NumCatalogPurchases</th>\n",
       "      <td>2240.0</td>\n",
       "      <td>2.662054</td>\n",
       "      <td>2.923101</td>\n",
       "      <td>0.0</td>\n",
       "      <td>0.00</td>\n",
       "      <td>2.0</td>\n",
       "      <td>4.00</td>\n",
       "      <td>28.0</td>\n",
       "    </tr>\n",
       "    <tr>\n",
       "      <th>NumStorePurchases</th>\n",
       "      <td>2240.0</td>\n",
       "      <td>5.790179</td>\n",
       "      <td>3.250958</td>\n",
       "      <td>0.0</td>\n",
       "      <td>3.00</td>\n",
       "      <td>5.0</td>\n",
       "      <td>8.00</td>\n",
       "      <td>13.0</td>\n",
       "    </tr>\n",
       "    <tr>\n",
       "      <th>NumWebVisitsMonth</th>\n",
       "      <td>2240.0</td>\n",
       "      <td>5.316518</td>\n",
       "      <td>2.426645</td>\n",
       "      <td>0.0</td>\n",
       "      <td>3.00</td>\n",
       "      <td>6.0</td>\n",
       "      <td>7.00</td>\n",
       "      <td>20.0</td>\n",
       "    </tr>\n",
       "    <tr>\n",
       "      <th>AcceptedCmp3</th>\n",
       "      <td>2240.0</td>\n",
       "      <td>0.072768</td>\n",
       "      <td>0.259813</td>\n",
       "      <td>0.0</td>\n",
       "      <td>0.00</td>\n",
       "      <td>0.0</td>\n",
       "      <td>0.00</td>\n",
       "      <td>1.0</td>\n",
       "    </tr>\n",
       "    <tr>\n",
       "      <th>AcceptedCmp4</th>\n",
       "      <td>2240.0</td>\n",
       "      <td>0.074554</td>\n",
       "      <td>0.262728</td>\n",
       "      <td>0.0</td>\n",
       "      <td>0.00</td>\n",
       "      <td>0.0</td>\n",
       "      <td>0.00</td>\n",
       "      <td>1.0</td>\n",
       "    </tr>\n",
       "    <tr>\n",
       "      <th>AcceptedCmp5</th>\n",
       "      <td>2240.0</td>\n",
       "      <td>0.072768</td>\n",
       "      <td>0.259813</td>\n",
       "      <td>0.0</td>\n",
       "      <td>0.00</td>\n",
       "      <td>0.0</td>\n",
       "      <td>0.00</td>\n",
       "      <td>1.0</td>\n",
       "    </tr>\n",
       "    <tr>\n",
       "      <th>AcceptedCmp1</th>\n",
       "      <td>2240.0</td>\n",
       "      <td>0.064286</td>\n",
       "      <td>0.245316</td>\n",
       "      <td>0.0</td>\n",
       "      <td>0.00</td>\n",
       "      <td>0.0</td>\n",
       "      <td>0.00</td>\n",
       "      <td>1.0</td>\n",
       "    </tr>\n",
       "    <tr>\n",
       "      <th>AcceptedCmp2</th>\n",
       "      <td>2240.0</td>\n",
       "      <td>0.013393</td>\n",
       "      <td>0.114976</td>\n",
       "      <td>0.0</td>\n",
       "      <td>0.00</td>\n",
       "      <td>0.0</td>\n",
       "      <td>0.00</td>\n",
       "      <td>1.0</td>\n",
       "    </tr>\n",
       "    <tr>\n",
       "      <th>Complain</th>\n",
       "      <td>2240.0</td>\n",
       "      <td>0.009375</td>\n",
       "      <td>0.096391</td>\n",
       "      <td>0.0</td>\n",
       "      <td>0.00</td>\n",
       "      <td>0.0</td>\n",
       "      <td>0.00</td>\n",
       "      <td>1.0</td>\n",
       "    </tr>\n",
       "    <tr>\n",
       "      <th>Z_CostContact</th>\n",
       "      <td>2240.0</td>\n",
       "      <td>3.000000</td>\n",
       "      <td>0.000000</td>\n",
       "      <td>3.0</td>\n",
       "      <td>3.00</td>\n",
       "      <td>3.0</td>\n",
       "      <td>3.00</td>\n",
       "      <td>3.0</td>\n",
       "    </tr>\n",
       "    <tr>\n",
       "      <th>Z_Revenue</th>\n",
       "      <td>2240.0</td>\n",
       "      <td>11.000000</td>\n",
       "      <td>0.000000</td>\n",
       "      <td>11.0</td>\n",
       "      <td>11.00</td>\n",
       "      <td>11.0</td>\n",
       "      <td>11.00</td>\n",
       "      <td>11.0</td>\n",
       "    </tr>\n",
       "    <tr>\n",
       "      <th>Response</th>\n",
       "      <td>2240.0</td>\n",
       "      <td>0.149107</td>\n",
       "      <td>0.356274</td>\n",
       "      <td>0.0</td>\n",
       "      <td>0.00</td>\n",
       "      <td>0.0</td>\n",
       "      <td>0.00</td>\n",
       "      <td>1.0</td>\n",
       "    </tr>\n",
       "  </tbody>\n",
       "</table>\n",
       "</div>"
      ],
      "text/plain": [
       "                      count          mean           std     min       25%      50%       75%       max\n",
       "ID                   2240.0   5592.159821   3246.662198     0.0   2828.25   5458.5   8427.75   11191.0\n",
       "Year_Birth           2240.0   1968.805804     11.984069  1893.0   1959.00   1970.0   1977.00    1996.0\n",
       "Income               2216.0  52247.251354  25173.076661  1730.0  35303.00  51381.5  68522.00  666666.0\n",
       "Kidhome              2240.0      0.444196      0.538398     0.0      0.00      0.0      1.00       2.0\n",
       "Teenhome             2240.0      0.506250      0.544538     0.0      0.00      0.0      1.00       2.0\n",
       "Recency              2240.0     49.109375     28.962453     0.0     24.00     49.0     74.00      99.0\n",
       "MntWines             2240.0    303.935714    336.597393     0.0     23.75    173.5    504.25    1493.0\n",
       "MntFruits            2240.0     26.302232     39.773434     0.0      1.00      8.0     33.00     199.0\n",
       "MntMeatProducts      2240.0    166.950000    225.715373     0.0     16.00     67.0    232.00    1725.0\n",
       "MntFishProducts      2240.0     37.525446     54.628979     0.0      3.00     12.0     50.00     259.0\n",
       "MntSweetProducts     2240.0     27.062946     41.280498     0.0      1.00      8.0     33.00     263.0\n",
       "MntGoldProds         2240.0     44.021875     52.167439     0.0      9.00     24.0     56.00     362.0\n",
       "NumDealsPurchases    2240.0      2.325000      1.932238     0.0      1.00      2.0      3.00      15.0\n",
       "NumWebPurchases      2240.0      4.084821      2.778714     0.0      2.00      4.0      6.00      27.0\n",
       "NumCatalogPurchases  2240.0      2.662054      2.923101     0.0      0.00      2.0      4.00      28.0\n",
       "NumStorePurchases    2240.0      5.790179      3.250958     0.0      3.00      5.0      8.00      13.0\n",
       "NumWebVisitsMonth    2240.0      5.316518      2.426645     0.0      3.00      6.0      7.00      20.0\n",
       "AcceptedCmp3         2240.0      0.072768      0.259813     0.0      0.00      0.0      0.00       1.0\n",
       "AcceptedCmp4         2240.0      0.074554      0.262728     0.0      0.00      0.0      0.00       1.0\n",
       "AcceptedCmp5         2240.0      0.072768      0.259813     0.0      0.00      0.0      0.00       1.0\n",
       "AcceptedCmp1         2240.0      0.064286      0.245316     0.0      0.00      0.0      0.00       1.0\n",
       "AcceptedCmp2         2240.0      0.013393      0.114976     0.0      0.00      0.0      0.00       1.0\n",
       "Complain             2240.0      0.009375      0.096391     0.0      0.00      0.0      0.00       1.0\n",
       "Z_CostContact        2240.0      3.000000      0.000000     3.0      3.00      3.0      3.00       3.0\n",
       "Z_Revenue            2240.0     11.000000      0.000000    11.0     11.00     11.0     11.00      11.0\n",
       "Response             2240.0      0.149107      0.356274     0.0      0.00      0.0      0.00       1.0"
      ]
     },
     "execution_count": 5,
     "metadata": {},
     "output_type": "execute_result"
    }
   ],
   "source": [
    "# Observando algumas medidas\n",
    "df_full.describe().transpose()"
   ]
  },
  {
   "cell_type": "code",
   "execution_count": 6,
   "metadata": {},
   "outputs": [
    {
     "data": {
      "text/plain": [
       "ID                     2240\n",
       "Year_Birth               59\n",
       "Education                 5\n",
       "Marital_Status            8\n",
       "Income                 1974\n",
       "Kidhome                   3\n",
       "Teenhome                  3\n",
       "Dt_Customer             663\n",
       "Recency                 100\n",
       "MntWines                776\n",
       "MntFruits               158\n",
       "MntMeatProducts         558\n",
       "MntFishProducts         182\n",
       "MntSweetProducts        177\n",
       "MntGoldProds            213\n",
       "NumDealsPurchases        15\n",
       "NumWebPurchases          15\n",
       "NumCatalogPurchases      14\n",
       "NumStorePurchases        14\n",
       "NumWebVisitsMonth        16\n",
       "AcceptedCmp3              2\n",
       "AcceptedCmp4              2\n",
       "AcceptedCmp5              2\n",
       "AcceptedCmp1              2\n",
       "AcceptedCmp2              2\n",
       "Complain                  2\n",
       "Z_CostContact             1\n",
       "Z_Revenue                 1\n",
       "Response                  2\n",
       "dtype: int64"
      ]
     },
     "execution_count": 6,
     "metadata": {},
     "output_type": "execute_result"
    }
   ],
   "source": [
    "# Verificando os valores únicos\n",
    "df_full.nunique()"
   ]
  },
  {
   "cell_type": "code",
   "execution_count": 7,
   "metadata": {},
   "outputs": [
    {
     "name": "stdout",
     "output_type": "stream",
     "text": [
      "Valores Nulos\n",
      "\n",
      "ID                      0\n",
      "Year_Birth              0\n",
      "Education               0\n",
      "Marital_Status          0\n",
      "Income                 24\n",
      "Kidhome                 0\n",
      "Teenhome                0\n",
      "Dt_Customer             0\n",
      "Recency                 0\n",
      "MntWines                0\n",
      "MntFruits               0\n",
      "MntMeatProducts         0\n",
      "MntFishProducts         0\n",
      "MntSweetProducts        0\n",
      "MntGoldProds            0\n",
      "NumDealsPurchases       0\n",
      "NumWebPurchases         0\n",
      "NumCatalogPurchases     0\n",
      "NumStorePurchases       0\n",
      "NumWebVisitsMonth       0\n",
      "AcceptedCmp3            0\n",
      "AcceptedCmp4            0\n",
      "AcceptedCmp5            0\n",
      "AcceptedCmp1            0\n",
      "AcceptedCmp2            0\n",
      "Complain                0\n",
      "Z_CostContact           0\n",
      "Z_Revenue               0\n",
      "Response                0\n",
      "dtype: int64\n"
     ]
    }
   ],
   "source": [
    "# Verificando valores nulos\n",
    "print('Valores Nulos\\n')\n",
    "print(df_full.isnull().sum())"
   ]
  },
  {
   "cell_type": "code",
   "execution_count": 8,
   "metadata": {},
   "outputs": [
    {
     "data": {
      "image/png": "[encoded data removed]",
      "text/plain": [
       "<Figure size 864x576 with 30 Axes>"
      ]
     },
     "metadata": {
      "needs_background": "light"
     },
     "output_type": "display_data"
    }
   ],
   "source": [
    "# Distribuição dos atributos do dataset\n",
    "df_full.hist(figsize=(12,8))\n",
    "plt.tight_layout()\n",
    "plt.show()"
   ]
  },
  {
   "cell_type": "code",
   "execution_count": null,
   "metadata": {},
   "outputs": [],
   "source": []
  },
  {
   "cell_type": "code",
   "execution_count": 9,
   "metadata": {},
   "outputs": [],
   "source": [
    "# Cria a função para identificar os atributos valores faltantes (Missing values)\n",
    "def identica_valores_faltantes(df, percent):\n",
    "    miss = df.isna().sum()\n",
    "    miss = miss[miss>0]\n",
    "    miss_p = miss/df.shape[0]\n",
    "    miss_t = miss_p>percent\n",
    "\n",
    "    return pd.DataFrame({\"Nulos\" : miss, \"% Nulos\" : miss_p, \"Mínimo de Obs {}%\".format(round(percent*100)) : miss_t})"
   ]
  },
  {
   "cell_type": "code",
   "execution_count": 10,
   "metadata": {},
   "outputs": [
    {
     "data": {
      "text/html": [
       "<div>\n",
       "<style scoped>\n",
       "    .dataframe tbody tr th:only-of-type {\n",
       "        vertical-align: middle;\n",
       "    }\n",
       "\n",
       "    .dataframe tbody tr th {\n",
       "        vertical-align: top;\n",
       "    }\n",
       "\n",
       "    .dataframe thead th {\n",
       "        text-align: right;\n",
       "    }\n",
       "</style>\n",
       "<table border=\"1\" class=\"dataframe\">\n",
       "  <thead>\n",
       "    <tr style=\"text-align: right;\">\n",
       "      <th></th>\n",
       "      <th>Nulos</th>\n",
       "      <th>% Nulos</th>\n",
       "      <th>Mínimo de Obs 3%</th>\n",
       "    </tr>\n",
       "  </thead>\n",
       "  <tbody>\n",
       "    <tr>\n",
       "      <th>Income</th>\n",
       "      <td>24</td>\n",
       "      <td>0.010714</td>\n",
       "      <td>False</td>\n",
       "    </tr>\n",
       "  </tbody>\n",
       "</table>\n",
       "</div>"
      ],
      "text/plain": [
       "        Nulos   % Nulos  Mínimo de Obs 3%\n",
       "Income     24  0.010714             False"
      ]
     },
     "execution_count": 10,
     "metadata": {},
     "output_type": "execute_result"
    }
   ],
   "source": [
    "# Percentual de valores NULOS \n",
    "identica_valores_faltantes(df_full, 0.03)"
   ]
  },
  {
   "cell_type": "code",
   "execution_count": 11,
   "metadata": {},
   "outputs": [],
   "source": [
    "atributos_categoricos = [\"Education\", \"Marital_Status\", \"Kidhome\", \"Teenhome\", \"AcceptedCmp1\", \"AcceptedCmp2\", \"AcceptedCmp3\", \"AcceptedCmp4\",  \"AcceptedCmp5\", \"Complain\"]\n",
    "\n",
    "feat_n = list(df_full.columns)\n",
    "feat_n = list(filter(lambda x: x not in atributos_categoricos, feat_n))"
   ]
  },
  {
   "cell_type": "code",
   "execution_count": null,
   "metadata": {},
   "outputs": [],
   "source": []
  },
  {
   "cell_type": "code",
   "execution_count": 12,
   "metadata": {},
   "outputs": [],
   "source": [
    "# Cria o método para análisar os atributos categóricos do dataframe\n",
    "def desc_atributos_categoricos(df, atributos_categ, atributo_target, num_obs):\n",
    "    col_agg = []\n",
    "           \n",
    "    if (type(atributos_categ)==list):    \n",
    "        for feature in atributos_categ:\n",
    "            col_agg.append(df.groupby([feature]).agg({atributo_target : [\"count\", \"mean\"]})) \n",
    "            dfm = pd.concat(col_agg, keys=atributos_categ)            \n",
    "            dfm = pd.DataFrame({\"Observações\" : dfm.iloc[:,0], \"Capacidade de discriminação\" : round(dfm.iloc[:,1],4), \"Núm Obs Atingidas ({0})?\".format(str(num_obs)): dfm.iloc[:,0]>num_obs})  \n",
    "    else:\n",
    "        dfm = (df.groupby(atributos_categ).agg({atributo_target : [\"count\", \"mean\"]}))                \n",
    "        dfm = pd.DataFrame({\"Observações\" : dfm.iloc[:,0], \"Capacidade de discriminação\" : round(dfm.iloc[:,1],4), \"Núm Obs Atingidas ({0})?\".format(str(num_obs)): dfm.iloc[:,0]>num_obs})            \n",
    "        \n",
    "    return dfm"
   ]
  },
  {
   "cell_type": "code",
   "execution_count": 13,
   "metadata": {},
   "outputs": [],
   "source": [
    "# Cria o método destacar os valores do dataframe \n",
    "def highlight(val):        \n",
    "    color = 'red' if val < .15 else 'black'    \n",
    "    return 'color: %s' % color"
   ]
  },
  {
   "cell_type": "code",
   "execution_count": 14,
   "metadata": {},
   "outputs": [],
   "source": [
    "df_info_categ= desc_atributos_categoricos(df_full, atributos_categoricos, \"Response\", 40)"
   ]
  },
  {
   "cell_type": "code",
   "execution_count": 15,
   "metadata": {},
   "outputs": [
    {
     "data": {
      "text/html": [
       "<style  type=\"text/css\" >\n",
       "    #T_936b9ac8_c9dd_11ea_bc47_f48e38e2dc30row0_col0 {\n",
       "            color:  black;\n",
       "        }    #T_936b9ac8_c9dd_11ea_bc47_f48e38e2dc30row0_col1 {\n",
       "            color:  red;\n",
       "        }    #T_936b9ac8_c9dd_11ea_bc47_f48e38e2dc30row0_col2 {\n",
       "            color:  black;\n",
       "        }    #T_936b9ac8_c9dd_11ea_bc47_f48e38e2dc30row1_col0 {\n",
       "            color:  black;\n",
       "        }    #T_936b9ac8_c9dd_11ea_bc47_f48e38e2dc30row1_col1 {\n",
       "            color:  red;\n",
       "        }    #T_936b9ac8_c9dd_11ea_bc47_f48e38e2dc30row1_col2 {\n",
       "            color:  black;\n",
       "        }    #T_936b9ac8_c9dd_11ea_bc47_f48e38e2dc30row2_col0 {\n",
       "            color:  black;\n",
       "        }    #T_936b9ac8_c9dd_11ea_bc47_f48e38e2dc30row2_col1 {\n",
       "            color:  red;\n",
       "        }    #T_936b9ac8_c9dd_11ea_bc47_f48e38e2dc30row2_col2 {\n",
       "            color:  black;\n",
       "        }    #T_936b9ac8_c9dd_11ea_bc47_f48e38e2dc30row3_col0 {\n",
       "            color:  black;\n",
       "        }    #T_936b9ac8_c9dd_11ea_bc47_f48e38e2dc30row3_col1 {\n",
       "            color:  black;\n",
       "        }    #T_936b9ac8_c9dd_11ea_bc47_f48e38e2dc30row3_col2 {\n",
       "            color:  black;\n",
       "        }    #T_936b9ac8_c9dd_11ea_bc47_f48e38e2dc30row4_col0 {\n",
       "            color:  black;\n",
       "        }    #T_936b9ac8_c9dd_11ea_bc47_f48e38e2dc30row4_col1 {\n",
       "            color:  black;\n",
       "        }    #T_936b9ac8_c9dd_11ea_bc47_f48e38e2dc30row4_col2 {\n",
       "            color:  black;\n",
       "        }    #T_936b9ac8_c9dd_11ea_bc47_f48e38e2dc30row5_col0 {\n",
       "            color:  black;\n",
       "        }    #T_936b9ac8_c9dd_11ea_bc47_f48e38e2dc30row5_col1 {\n",
       "            color:  black;\n",
       "        }    #T_936b9ac8_c9dd_11ea_bc47_f48e38e2dc30row5_col2 {\n",
       "            color:  red;\n",
       "        }    #T_936b9ac8_c9dd_11ea_bc47_f48e38e2dc30row6_col0 {\n",
       "            color:  black;\n",
       "        }    #T_936b9ac8_c9dd_11ea_bc47_f48e38e2dc30row6_col1 {\n",
       "            color:  black;\n",
       "        }    #T_936b9ac8_c9dd_11ea_bc47_f48e38e2dc30row6_col2 {\n",
       "            color:  red;\n",
       "        }    #T_936b9ac8_c9dd_11ea_bc47_f48e38e2dc30row7_col0 {\n",
       "            color:  black;\n",
       "        }    #T_936b9ac8_c9dd_11ea_bc47_f48e38e2dc30row7_col1 {\n",
       "            color:  black;\n",
       "        }    #T_936b9ac8_c9dd_11ea_bc47_f48e38e2dc30row7_col2 {\n",
       "            color:  black;\n",
       "        }    #T_936b9ac8_c9dd_11ea_bc47_f48e38e2dc30row8_col0 {\n",
       "            color:  black;\n",
       "        }    #T_936b9ac8_c9dd_11ea_bc47_f48e38e2dc30row8_col1 {\n",
       "            color:  red;\n",
       "        }    #T_936b9ac8_c9dd_11ea_bc47_f48e38e2dc30row8_col2 {\n",
       "            color:  black;\n",
       "        }    #T_936b9ac8_c9dd_11ea_bc47_f48e38e2dc30row9_col0 {\n",
       "            color:  black;\n",
       "        }    #T_936b9ac8_c9dd_11ea_bc47_f48e38e2dc30row9_col1 {\n",
       "            color:  black;\n",
       "        }    #T_936b9ac8_c9dd_11ea_bc47_f48e38e2dc30row9_col2 {\n",
       "            color:  black;\n",
       "        }    #T_936b9ac8_c9dd_11ea_bc47_f48e38e2dc30row10_col0 {\n",
       "            color:  black;\n",
       "        }    #T_936b9ac8_c9dd_11ea_bc47_f48e38e2dc30row10_col1 {\n",
       "            color:  red;\n",
       "        }    #T_936b9ac8_c9dd_11ea_bc47_f48e38e2dc30row10_col2 {\n",
       "            color:  black;\n",
       "        }    #T_936b9ac8_c9dd_11ea_bc47_f48e38e2dc30row11_col0 {\n",
       "            color:  black;\n",
       "        }    #T_936b9ac8_c9dd_11ea_bc47_f48e38e2dc30row11_col1 {\n",
       "            color:  black;\n",
       "        }    #T_936b9ac8_c9dd_11ea_bc47_f48e38e2dc30row11_col2 {\n",
       "            color:  black;\n",
       "        }    #T_936b9ac8_c9dd_11ea_bc47_f48e38e2dc30row12_col0 {\n",
       "            color:  black;\n",
       "        }    #T_936b9ac8_c9dd_11ea_bc47_f48e38e2dc30row12_col1 {\n",
       "            color:  black;\n",
       "        }    #T_936b9ac8_c9dd_11ea_bc47_f48e38e2dc30row12_col2 {\n",
       "            color:  red;\n",
       "        }    #T_936b9ac8_c9dd_11ea_bc47_f48e38e2dc30row13_col0 {\n",
       "            color:  black;\n",
       "        }    #T_936b9ac8_c9dd_11ea_bc47_f48e38e2dc30row13_col1 {\n",
       "            color:  black;\n",
       "        }    #T_936b9ac8_c9dd_11ea_bc47_f48e38e2dc30row13_col2 {\n",
       "            color:  black;\n",
       "        }    #T_936b9ac8_c9dd_11ea_bc47_f48e38e2dc30row14_col0 {\n",
       "            color:  black;\n",
       "        }    #T_936b9ac8_c9dd_11ea_bc47_f48e38e2dc30row14_col1 {\n",
       "            color:  red;\n",
       "        }    #T_936b9ac8_c9dd_11ea_bc47_f48e38e2dc30row14_col2 {\n",
       "            color:  black;\n",
       "        }    #T_936b9ac8_c9dd_11ea_bc47_f48e38e2dc30row15_col0 {\n",
       "            color:  black;\n",
       "        }    #T_936b9ac8_c9dd_11ea_bc47_f48e38e2dc30row15_col1 {\n",
       "            color:  red;\n",
       "        }    #T_936b9ac8_c9dd_11ea_bc47_f48e38e2dc30row15_col2 {\n",
       "            color:  black;\n",
       "        }    #T_936b9ac8_c9dd_11ea_bc47_f48e38e2dc30row16_col0 {\n",
       "            color:  black;\n",
       "        }    #T_936b9ac8_c9dd_11ea_bc47_f48e38e2dc30row16_col1 {\n",
       "            color:  black;\n",
       "        }    #T_936b9ac8_c9dd_11ea_bc47_f48e38e2dc30row16_col2 {\n",
       "            color:  black;\n",
       "        }    #T_936b9ac8_c9dd_11ea_bc47_f48e38e2dc30row17_col0 {\n",
       "            color:  black;\n",
       "        }    #T_936b9ac8_c9dd_11ea_bc47_f48e38e2dc30row17_col1 {\n",
       "            color:  red;\n",
       "        }    #T_936b9ac8_c9dd_11ea_bc47_f48e38e2dc30row17_col2 {\n",
       "            color:  black;\n",
       "        }    #T_936b9ac8_c9dd_11ea_bc47_f48e38e2dc30row18_col0 {\n",
       "            color:  black;\n",
       "        }    #T_936b9ac8_c9dd_11ea_bc47_f48e38e2dc30row18_col1 {\n",
       "            color:  red;\n",
       "        }    #T_936b9ac8_c9dd_11ea_bc47_f48e38e2dc30row18_col2 {\n",
       "            color:  black;\n",
       "        }    #T_936b9ac8_c9dd_11ea_bc47_f48e38e2dc30row19_col0 {\n",
       "            color:  black;\n",
       "        }    #T_936b9ac8_c9dd_11ea_bc47_f48e38e2dc30row19_col1 {\n",
       "            color:  red;\n",
       "        }    #T_936b9ac8_c9dd_11ea_bc47_f48e38e2dc30row19_col2 {\n",
       "            color:  black;\n",
       "        }    #T_936b9ac8_c9dd_11ea_bc47_f48e38e2dc30row20_col0 {\n",
       "            color:  black;\n",
       "        }    #T_936b9ac8_c9dd_11ea_bc47_f48e38e2dc30row20_col1 {\n",
       "            color:  black;\n",
       "        }    #T_936b9ac8_c9dd_11ea_bc47_f48e38e2dc30row20_col2 {\n",
       "            color:  black;\n",
       "        }    #T_936b9ac8_c9dd_11ea_bc47_f48e38e2dc30row21_col0 {\n",
       "            color:  black;\n",
       "        }    #T_936b9ac8_c9dd_11ea_bc47_f48e38e2dc30row21_col1 {\n",
       "            color:  red;\n",
       "        }    #T_936b9ac8_c9dd_11ea_bc47_f48e38e2dc30row21_col2 {\n",
       "            color:  black;\n",
       "        }    #T_936b9ac8_c9dd_11ea_bc47_f48e38e2dc30row22_col0 {\n",
       "            color:  black;\n",
       "        }    #T_936b9ac8_c9dd_11ea_bc47_f48e38e2dc30row22_col1 {\n",
       "            color:  black;\n",
       "        }    #T_936b9ac8_c9dd_11ea_bc47_f48e38e2dc30row22_col2 {\n",
       "            color:  red;\n",
       "        }    #T_936b9ac8_c9dd_11ea_bc47_f48e38e2dc30row23_col0 {\n",
       "            color:  black;\n",
       "        }    #T_936b9ac8_c9dd_11ea_bc47_f48e38e2dc30row23_col1 {\n",
       "            color:  red;\n",
       "        }    #T_936b9ac8_c9dd_11ea_bc47_f48e38e2dc30row23_col2 {\n",
       "            color:  black;\n",
       "        }    #T_936b9ac8_c9dd_11ea_bc47_f48e38e2dc30row24_col0 {\n",
       "            color:  black;\n",
       "        }    #T_936b9ac8_c9dd_11ea_bc47_f48e38e2dc30row24_col1 {\n",
       "            color:  black;\n",
       "        }    #T_936b9ac8_c9dd_11ea_bc47_f48e38e2dc30row24_col2 {\n",
       "            color:  black;\n",
       "        }    #T_936b9ac8_c9dd_11ea_bc47_f48e38e2dc30row25_col0 {\n",
       "            color:  black;\n",
       "        }    #T_936b9ac8_c9dd_11ea_bc47_f48e38e2dc30row25_col1 {\n",
       "            color:  red;\n",
       "        }    #T_936b9ac8_c9dd_11ea_bc47_f48e38e2dc30row25_col2 {\n",
       "            color:  black;\n",
       "        }    #T_936b9ac8_c9dd_11ea_bc47_f48e38e2dc30row26_col0 {\n",
       "            color:  black;\n",
       "        }    #T_936b9ac8_c9dd_11ea_bc47_f48e38e2dc30row26_col1 {\n",
       "            color:  black;\n",
       "        }    #T_936b9ac8_c9dd_11ea_bc47_f48e38e2dc30row26_col2 {\n",
       "            color:  black;\n",
       "        }    #T_936b9ac8_c9dd_11ea_bc47_f48e38e2dc30row27_col0 {\n",
       "            color:  black;\n",
       "        }    #T_936b9ac8_c9dd_11ea_bc47_f48e38e2dc30row27_col1 {\n",
       "            color:  red;\n",
       "        }    #T_936b9ac8_c9dd_11ea_bc47_f48e38e2dc30row27_col2 {\n",
       "            color:  black;\n",
       "        }    #T_936b9ac8_c9dd_11ea_bc47_f48e38e2dc30row28_col0 {\n",
       "            color:  black;\n",
       "        }    #T_936b9ac8_c9dd_11ea_bc47_f48e38e2dc30row28_col1 {\n",
       "            color:  black;\n",
       "        }    #T_936b9ac8_c9dd_11ea_bc47_f48e38e2dc30row28_col2 {\n",
       "            color:  black;\n",
       "        }    #T_936b9ac8_c9dd_11ea_bc47_f48e38e2dc30row29_col0 {\n",
       "            color:  black;\n",
       "        }    #T_936b9ac8_c9dd_11ea_bc47_f48e38e2dc30row29_col1 {\n",
       "            color:  red;\n",
       "        }    #T_936b9ac8_c9dd_11ea_bc47_f48e38e2dc30row29_col2 {\n",
       "            color:  black;\n",
       "        }    #T_936b9ac8_c9dd_11ea_bc47_f48e38e2dc30row30_col0 {\n",
       "            color:  black;\n",
       "        }    #T_936b9ac8_c9dd_11ea_bc47_f48e38e2dc30row30_col1 {\n",
       "            color:  red;\n",
       "        }    #T_936b9ac8_c9dd_11ea_bc47_f48e38e2dc30row30_col2 {\n",
       "            color:  red;\n",
       "        }</style><table id=\"T_936b9ac8_c9dd_11ea_bc47_f48e38e2dc30\" ><thead>    <tr>        <th class=\"blank\" ></th>        <th class=\"blank level0\" ></th>        <th class=\"col_heading level0 col0\" >Observações</th>        <th class=\"col_heading level0 col1\" >Capacidade de discriminação</th>        <th class=\"col_heading level0 col2\" >Núm Obs Atingidas (40)?</th>    </tr></thead><tbody>\n",
       "                <tr>\n",
       "                        <th id=\"T_936b9ac8_c9dd_11ea_bc47_f48e38e2dc30level0_row0\" class=\"row_heading level0 row0\" rowspan=5>Education</th>\n",
       "                        <th id=\"T_936b9ac8_c9dd_11ea_bc47_f48e38e2dc30level1_row0\" class=\"row_heading level1 row0\" >2n Cycle</th>\n",
       "                        <td id=\"T_936b9ac8_c9dd_11ea_bc47_f48e38e2dc30row0_col0\" class=\"data row0 col0\" >203</td>\n",
       "                        <td id=\"T_936b9ac8_c9dd_11ea_bc47_f48e38e2dc30row0_col1\" class=\"data row0 col1\" >0.108400</td>\n",
       "                        <td id=\"T_936b9ac8_c9dd_11ea_bc47_f48e38e2dc30row0_col2\" class=\"data row0 col2\" >True</td>\n",
       "            </tr>\n",
       "            <tr>\n",
       "                                <th id=\"T_936b9ac8_c9dd_11ea_bc47_f48e38e2dc30level1_row1\" class=\"row_heading level1 row1\" >Basic</th>\n",
       "                        <td id=\"T_936b9ac8_c9dd_11ea_bc47_f48e38e2dc30row1_col0\" class=\"data row1 col0\" >54</td>\n",
       "                        <td id=\"T_936b9ac8_c9dd_11ea_bc47_f48e38e2dc30row1_col1\" class=\"data row1 col1\" >0.037000</td>\n",
       "                        <td id=\"T_936b9ac8_c9dd_11ea_bc47_f48e38e2dc30row1_col2\" class=\"data row1 col2\" >True</td>\n",
       "            </tr>\n",
       "            <tr>\n",
       "                                <th id=\"T_936b9ac8_c9dd_11ea_bc47_f48e38e2dc30level1_row2\" class=\"row_heading level1 row2\" >Graduation</th>\n",
       "                        <td id=\"T_936b9ac8_c9dd_11ea_bc47_f48e38e2dc30row2_col0\" class=\"data row2 col0\" >1127</td>\n",
       "                        <td id=\"T_936b9ac8_c9dd_11ea_bc47_f48e38e2dc30row2_col1\" class=\"data row2 col1\" >0.134900</td>\n",
       "                        <td id=\"T_936b9ac8_c9dd_11ea_bc47_f48e38e2dc30row2_col2\" class=\"data row2 col2\" >True</td>\n",
       "            </tr>\n",
       "            <tr>\n",
       "                                <th id=\"T_936b9ac8_c9dd_11ea_bc47_f48e38e2dc30level1_row3\" class=\"row_heading level1 row3\" >Master</th>\n",
       "                        <td id=\"T_936b9ac8_c9dd_11ea_bc47_f48e38e2dc30row3_col0\" class=\"data row3 col0\" >370</td>\n",
       "                        <td id=\"T_936b9ac8_c9dd_11ea_bc47_f48e38e2dc30row3_col1\" class=\"data row3 col1\" >0.154100</td>\n",
       "                        <td id=\"T_936b9ac8_c9dd_11ea_bc47_f48e38e2dc30row3_col2\" class=\"data row3 col2\" >True</td>\n",
       "            </tr>\n",
       "            <tr>\n",
       "                                <th id=\"T_936b9ac8_c9dd_11ea_bc47_f48e38e2dc30level1_row4\" class=\"row_heading level1 row4\" >PhD</th>\n",
       "                        <td id=\"T_936b9ac8_c9dd_11ea_bc47_f48e38e2dc30row4_col0\" class=\"data row4 col0\" >486</td>\n",
       "                        <td id=\"T_936b9ac8_c9dd_11ea_bc47_f48e38e2dc30row4_col1\" class=\"data row4 col1\" >0.207800</td>\n",
       "                        <td id=\"T_936b9ac8_c9dd_11ea_bc47_f48e38e2dc30row4_col2\" class=\"data row4 col2\" >True</td>\n",
       "            </tr>\n",
       "            <tr>\n",
       "                        <th id=\"T_936b9ac8_c9dd_11ea_bc47_f48e38e2dc30level0_row5\" class=\"row_heading level0 row5\" rowspan=8>Marital_Status</th>\n",
       "                        <th id=\"T_936b9ac8_c9dd_11ea_bc47_f48e38e2dc30level1_row5\" class=\"row_heading level1 row5\" >Absurd</th>\n",
       "                        <td id=\"T_936b9ac8_c9dd_11ea_bc47_f48e38e2dc30row5_col0\" class=\"data row5 col0\" >2</td>\n",
       "                        <td id=\"T_936b9ac8_c9dd_11ea_bc47_f48e38e2dc30row5_col1\" class=\"data row5 col1\" >0.500000</td>\n",
       "                        <td id=\"T_936b9ac8_c9dd_11ea_bc47_f48e38e2dc30row5_col2\" class=\"data row5 col2\" >False</td>\n",
       "            </tr>\n",
       "            <tr>\n",
       "                                <th id=\"T_936b9ac8_c9dd_11ea_bc47_f48e38e2dc30level1_row6\" class=\"row_heading level1 row6\" >Alone</th>\n",
       "                        <td id=\"T_936b9ac8_c9dd_11ea_bc47_f48e38e2dc30row6_col0\" class=\"data row6 col0\" >3</td>\n",
       "                        <td id=\"T_936b9ac8_c9dd_11ea_bc47_f48e38e2dc30row6_col1\" class=\"data row6 col1\" >0.333300</td>\n",
       "                        <td id=\"T_936b9ac8_c9dd_11ea_bc47_f48e38e2dc30row6_col2\" class=\"data row6 col2\" >False</td>\n",
       "            </tr>\n",
       "            <tr>\n",
       "                                <th id=\"T_936b9ac8_c9dd_11ea_bc47_f48e38e2dc30level1_row7\" class=\"row_heading level1 row7\" >Divorced</th>\n",
       "                        <td id=\"T_936b9ac8_c9dd_11ea_bc47_f48e38e2dc30row7_col0\" class=\"data row7 col0\" >232</td>\n",
       "                        <td id=\"T_936b9ac8_c9dd_11ea_bc47_f48e38e2dc30row7_col1\" class=\"data row7 col1\" >0.206900</td>\n",
       "                        <td id=\"T_936b9ac8_c9dd_11ea_bc47_f48e38e2dc30row7_col2\" class=\"data row7 col2\" >True</td>\n",
       "            </tr>\n",
       "            <tr>\n",
       "                                <th id=\"T_936b9ac8_c9dd_11ea_bc47_f48e38e2dc30level1_row8\" class=\"row_heading level1 row8\" >Married</th>\n",
       "                        <td id=\"T_936b9ac8_c9dd_11ea_bc47_f48e38e2dc30row8_col0\" class=\"data row8 col0\" >864</td>\n",
       "                        <td id=\"T_936b9ac8_c9dd_11ea_bc47_f48e38e2dc30row8_col1\" class=\"data row8 col1\" >0.113400</td>\n",
       "                        <td id=\"T_936b9ac8_c9dd_11ea_bc47_f48e38e2dc30row8_col2\" class=\"data row8 col2\" >True</td>\n",
       "            </tr>\n",
       "            <tr>\n",
       "                                <th id=\"T_936b9ac8_c9dd_11ea_bc47_f48e38e2dc30level1_row9\" class=\"row_heading level1 row9\" >Single</th>\n",
       "                        <td id=\"T_936b9ac8_c9dd_11ea_bc47_f48e38e2dc30row9_col0\" class=\"data row9 col0\" >480</td>\n",
       "                        <td id=\"T_936b9ac8_c9dd_11ea_bc47_f48e38e2dc30row9_col1\" class=\"data row9 col1\" >0.220800</td>\n",
       "                        <td id=\"T_936b9ac8_c9dd_11ea_bc47_f48e38e2dc30row9_col2\" class=\"data row9 col2\" >True</td>\n",
       "            </tr>\n",
       "            <tr>\n",
       "                                <th id=\"T_936b9ac8_c9dd_11ea_bc47_f48e38e2dc30level1_row10\" class=\"row_heading level1 row10\" >Together</th>\n",
       "                        <td id=\"T_936b9ac8_c9dd_11ea_bc47_f48e38e2dc30row10_col0\" class=\"data row10 col0\" >580</td>\n",
       "                        <td id=\"T_936b9ac8_c9dd_11ea_bc47_f48e38e2dc30row10_col1\" class=\"data row10 col1\" >0.103400</td>\n",
       "                        <td id=\"T_936b9ac8_c9dd_11ea_bc47_f48e38e2dc30row10_col2\" class=\"data row10 col2\" >True</td>\n",
       "            </tr>\n",
       "            <tr>\n",
       "                                <th id=\"T_936b9ac8_c9dd_11ea_bc47_f48e38e2dc30level1_row11\" class=\"row_heading level1 row11\" >Widow</th>\n",
       "                        <td id=\"T_936b9ac8_c9dd_11ea_bc47_f48e38e2dc30row11_col0\" class=\"data row11 col0\" >77</td>\n",
       "                        <td id=\"T_936b9ac8_c9dd_11ea_bc47_f48e38e2dc30row11_col1\" class=\"data row11 col1\" >0.246800</td>\n",
       "                        <td id=\"T_936b9ac8_c9dd_11ea_bc47_f48e38e2dc30row11_col2\" class=\"data row11 col2\" >True</td>\n",
       "            </tr>\n",
       "            <tr>\n",
       "                                <th id=\"T_936b9ac8_c9dd_11ea_bc47_f48e38e2dc30level1_row12\" class=\"row_heading level1 row12\" >YOLO</th>\n",
       "                        <td id=\"T_936b9ac8_c9dd_11ea_bc47_f48e38e2dc30row12_col0\" class=\"data row12 col0\" >2</td>\n",
       "                        <td id=\"T_936b9ac8_c9dd_11ea_bc47_f48e38e2dc30row12_col1\" class=\"data row12 col1\" >0.500000</td>\n",
       "                        <td id=\"T_936b9ac8_c9dd_11ea_bc47_f48e38e2dc30row12_col2\" class=\"data row12 col2\" >False</td>\n",
       "            </tr>\n",
       "            <tr>\n",
       "                        <th id=\"T_936b9ac8_c9dd_11ea_bc47_f48e38e2dc30level0_row13\" class=\"row_heading level0 row13\" rowspan=3>Kidhome</th>\n",
       "                        <th id=\"T_936b9ac8_c9dd_11ea_bc47_f48e38e2dc30level1_row13\" class=\"row_heading level1 row13\" >0</th>\n",
       "                        <td id=\"T_936b9ac8_c9dd_11ea_bc47_f48e38e2dc30row13_col0\" class=\"data row13 col0\" >1293</td>\n",
       "                        <td id=\"T_936b9ac8_c9dd_11ea_bc47_f48e38e2dc30row13_col1\" class=\"data row13 col1\" >0.171700</td>\n",
       "                        <td id=\"T_936b9ac8_c9dd_11ea_bc47_f48e38e2dc30row13_col2\" class=\"data row13 col2\" >True</td>\n",
       "            </tr>\n",
       "            <tr>\n",
       "                                <th id=\"T_936b9ac8_c9dd_11ea_bc47_f48e38e2dc30level1_row14\" class=\"row_heading level1 row14\" >1</th>\n",
       "                        <td id=\"T_936b9ac8_c9dd_11ea_bc47_f48e38e2dc30row14_col0\" class=\"data row14 col0\" >899</td>\n",
       "                        <td id=\"T_936b9ac8_c9dd_11ea_bc47_f48e38e2dc30row14_col1\" class=\"data row14 col1\" >0.122400</td>\n",
       "                        <td id=\"T_936b9ac8_c9dd_11ea_bc47_f48e38e2dc30row14_col2\" class=\"data row14 col2\" >True</td>\n",
       "            </tr>\n",
       "            <tr>\n",
       "                                <th id=\"T_936b9ac8_c9dd_11ea_bc47_f48e38e2dc30level1_row15\" class=\"row_heading level1 row15\" >2</th>\n",
       "                        <td id=\"T_936b9ac8_c9dd_11ea_bc47_f48e38e2dc30row15_col0\" class=\"data row15 col0\" >48</td>\n",
       "                        <td id=\"T_936b9ac8_c9dd_11ea_bc47_f48e38e2dc30row15_col1\" class=\"data row15 col1\" >0.041700</td>\n",
       "                        <td id=\"T_936b9ac8_c9dd_11ea_bc47_f48e38e2dc30row15_col2\" class=\"data row15 col2\" >True</td>\n",
       "            </tr>\n",
       "            <tr>\n",
       "                        <th id=\"T_936b9ac8_c9dd_11ea_bc47_f48e38e2dc30level0_row16\" class=\"row_heading level0 row16\" rowspan=3>Teenhome</th>\n",
       "                        <th id=\"T_936b9ac8_c9dd_11ea_bc47_f48e38e2dc30level1_row16\" class=\"row_heading level1 row16\" >0</th>\n",
       "                        <td id=\"T_936b9ac8_c9dd_11ea_bc47_f48e38e2dc30row16_col0\" class=\"data row16 col0\" >1158</td>\n",
       "                        <td id=\"T_936b9ac8_c9dd_11ea_bc47_f48e38e2dc30row16_col1\" class=\"data row16 col1\" >0.204700</td>\n",
       "                        <td id=\"T_936b9ac8_c9dd_11ea_bc47_f48e38e2dc30row16_col2\" class=\"data row16 col2\" >True</td>\n",
       "            </tr>\n",
       "            <tr>\n",
       "                                <th id=\"T_936b9ac8_c9dd_11ea_bc47_f48e38e2dc30level1_row17\" class=\"row_heading level1 row17\" >1</th>\n",
       "                        <td id=\"T_936b9ac8_c9dd_11ea_bc47_f48e38e2dc30row17_col0\" class=\"data row17 col0\" >1030</td>\n",
       "                        <td id=\"T_936b9ac8_c9dd_11ea_bc47_f48e38e2dc30row17_col1\" class=\"data row17 col1\" >0.089300</td>\n",
       "                        <td id=\"T_936b9ac8_c9dd_11ea_bc47_f48e38e2dc30row17_col2\" class=\"data row17 col2\" >True</td>\n",
       "            </tr>\n",
       "            <tr>\n",
       "                                <th id=\"T_936b9ac8_c9dd_11ea_bc47_f48e38e2dc30level1_row18\" class=\"row_heading level1 row18\" >2</th>\n",
       "                        <td id=\"T_936b9ac8_c9dd_11ea_bc47_f48e38e2dc30row18_col0\" class=\"data row18 col0\" >52</td>\n",
       "                        <td id=\"T_936b9ac8_c9dd_11ea_bc47_f48e38e2dc30row18_col1\" class=\"data row18 col1\" >0.096200</td>\n",
       "                        <td id=\"T_936b9ac8_c9dd_11ea_bc47_f48e38e2dc30row18_col2\" class=\"data row18 col2\" >True</td>\n",
       "            </tr>\n",
       "            <tr>\n",
       "                        <th id=\"T_936b9ac8_c9dd_11ea_bc47_f48e38e2dc30level0_row19\" class=\"row_heading level0 row19\" rowspan=2>AcceptedCmp1</th>\n",
       "                        <th id=\"T_936b9ac8_c9dd_11ea_bc47_f48e38e2dc30level1_row19\" class=\"row_heading level1 row19\" >0</th>\n",
       "                        <td id=\"T_936b9ac8_c9dd_11ea_bc47_f48e38e2dc30row19_col0\" class=\"data row19 col0\" >2096</td>\n",
       "                        <td id=\"T_936b9ac8_c9dd_11ea_bc47_f48e38e2dc30row19_col1\" class=\"data row19 col1\" >0.121700</td>\n",
       "                        <td id=\"T_936b9ac8_c9dd_11ea_bc47_f48e38e2dc30row19_col2\" class=\"data row19 col2\" >True</td>\n",
       "            </tr>\n",
       "            <tr>\n",
       "                                <th id=\"T_936b9ac8_c9dd_11ea_bc47_f48e38e2dc30level1_row20\" class=\"row_heading level1 row20\" >1</th>\n",
       "                        <td id=\"T_936b9ac8_c9dd_11ea_bc47_f48e38e2dc30row20_col0\" class=\"data row20 col0\" >144</td>\n",
       "                        <td id=\"T_936b9ac8_c9dd_11ea_bc47_f48e38e2dc30row20_col1\" class=\"data row20 col1\" >0.548600</td>\n",
       "                        <td id=\"T_936b9ac8_c9dd_11ea_bc47_f48e38e2dc30row20_col2\" class=\"data row20 col2\" >True</td>\n",
       "            </tr>\n",
       "            <tr>\n",
       "                        <th id=\"T_936b9ac8_c9dd_11ea_bc47_f48e38e2dc30level0_row21\" class=\"row_heading level0 row21\" rowspan=2>AcceptedCmp2</th>\n",
       "                        <th id=\"T_936b9ac8_c9dd_11ea_bc47_f48e38e2dc30level1_row21\" class=\"row_heading level1 row21\" >0</th>\n",
       "                        <td id=\"T_936b9ac8_c9dd_11ea_bc47_f48e38e2dc30row21_col0\" class=\"data row21 col0\" >2210</td>\n",
       "                        <td id=\"T_936b9ac8_c9dd_11ea_bc47_f48e38e2dc30row21_col1\" class=\"data row21 col1\" >0.142100</td>\n",
       "                        <td id=\"T_936b9ac8_c9dd_11ea_bc47_f48e38e2dc30row21_col2\" class=\"data row21 col2\" >True</td>\n",
       "            </tr>\n",
       "            <tr>\n",
       "                                <th id=\"T_936b9ac8_c9dd_11ea_bc47_f48e38e2dc30level1_row22\" class=\"row_heading level1 row22\" >1</th>\n",
       "                        <td id=\"T_936b9ac8_c9dd_11ea_bc47_f48e38e2dc30row22_col0\" class=\"data row22 col0\" >30</td>\n",
       "                        <td id=\"T_936b9ac8_c9dd_11ea_bc47_f48e38e2dc30row22_col1\" class=\"data row22 col1\" >0.666700</td>\n",
       "                        <td id=\"T_936b9ac8_c9dd_11ea_bc47_f48e38e2dc30row22_col2\" class=\"data row22 col2\" >False</td>\n",
       "            </tr>\n",
       "            <tr>\n",
       "                        <th id=\"T_936b9ac8_c9dd_11ea_bc47_f48e38e2dc30level0_row23\" class=\"row_heading level0 row23\" rowspan=2>AcceptedCmp3</th>\n",
       "                        <th id=\"T_936b9ac8_c9dd_11ea_bc47_f48e38e2dc30level1_row23\" class=\"row_heading level1 row23\" >0</th>\n",
       "                        <td id=\"T_936b9ac8_c9dd_11ea_bc47_f48e38e2dc30row23_col0\" class=\"data row23 col0\" >2077</td>\n",
       "                        <td id=\"T_936b9ac8_c9dd_11ea_bc47_f48e38e2dc30row23_col1\" class=\"data row23 col1\" >0.123700</td>\n",
       "                        <td id=\"T_936b9ac8_c9dd_11ea_bc47_f48e38e2dc30row23_col2\" class=\"data row23 col2\" >True</td>\n",
       "            </tr>\n",
       "            <tr>\n",
       "                                <th id=\"T_936b9ac8_c9dd_11ea_bc47_f48e38e2dc30level1_row24\" class=\"row_heading level1 row24\" >1</th>\n",
       "                        <td id=\"T_936b9ac8_c9dd_11ea_bc47_f48e38e2dc30row24_col0\" class=\"data row24 col0\" >163</td>\n",
       "                        <td id=\"T_936b9ac8_c9dd_11ea_bc47_f48e38e2dc30row24_col1\" class=\"data row24 col1\" >0.472400</td>\n",
       "                        <td id=\"T_936b9ac8_c9dd_11ea_bc47_f48e38e2dc30row24_col2\" class=\"data row24 col2\" >True</td>\n",
       "            </tr>\n",
       "            <tr>\n",
       "                        <th id=\"T_936b9ac8_c9dd_11ea_bc47_f48e38e2dc30level0_row25\" class=\"row_heading level0 row25\" rowspan=2>AcceptedCmp4</th>\n",
       "                        <th id=\"T_936b9ac8_c9dd_11ea_bc47_f48e38e2dc30level1_row25\" class=\"row_heading level1 row25\" >0</th>\n",
       "                        <td id=\"T_936b9ac8_c9dd_11ea_bc47_f48e38e2dc30row25_col0\" class=\"data row25 col0\" >2073</td>\n",
       "                        <td id=\"T_936b9ac8_c9dd_11ea_bc47_f48e38e2dc30row25_col1\" class=\"data row25 col1\" >0.131200</td>\n",
       "                        <td id=\"T_936b9ac8_c9dd_11ea_bc47_f48e38e2dc30row25_col2\" class=\"data row25 col2\" >True</td>\n",
       "            </tr>\n",
       "            <tr>\n",
       "                                <th id=\"T_936b9ac8_c9dd_11ea_bc47_f48e38e2dc30level1_row26\" class=\"row_heading level1 row26\" >1</th>\n",
       "                        <td id=\"T_936b9ac8_c9dd_11ea_bc47_f48e38e2dc30row26_col0\" class=\"data row26 col0\" >167</td>\n",
       "                        <td id=\"T_936b9ac8_c9dd_11ea_bc47_f48e38e2dc30row26_col1\" class=\"data row26 col1\" >0.371300</td>\n",
       "                        <td id=\"T_936b9ac8_c9dd_11ea_bc47_f48e38e2dc30row26_col2\" class=\"data row26 col2\" >True</td>\n",
       "            </tr>\n",
       "            <tr>\n",
       "                        <th id=\"T_936b9ac8_c9dd_11ea_bc47_f48e38e2dc30level0_row27\" class=\"row_heading level0 row27\" rowspan=2>AcceptedCmp5</th>\n",
       "                        <th id=\"T_936b9ac8_c9dd_11ea_bc47_f48e38e2dc30level1_row27\" class=\"row_heading level1 row27\" >0</th>\n",
       "                        <td id=\"T_936b9ac8_c9dd_11ea_bc47_f48e38e2dc30row27_col0\" class=\"data row27 col0\" >2077</td>\n",
       "                        <td id=\"T_936b9ac8_c9dd_11ea_bc47_f48e38e2dc30row27_col1\" class=\"data row27 col1\" >0.116500</td>\n",
       "                        <td id=\"T_936b9ac8_c9dd_11ea_bc47_f48e38e2dc30row27_col2\" class=\"data row27 col2\" >True</td>\n",
       "            </tr>\n",
       "            <tr>\n",
       "                                <th id=\"T_936b9ac8_c9dd_11ea_bc47_f48e38e2dc30level1_row28\" class=\"row_heading level1 row28\" >1</th>\n",
       "                        <td id=\"T_936b9ac8_c9dd_11ea_bc47_f48e38e2dc30row28_col0\" class=\"data row28 col0\" >163</td>\n",
       "                        <td id=\"T_936b9ac8_c9dd_11ea_bc47_f48e38e2dc30row28_col1\" class=\"data row28 col1\" >0.564400</td>\n",
       "                        <td id=\"T_936b9ac8_c9dd_11ea_bc47_f48e38e2dc30row28_col2\" class=\"data row28 col2\" >True</td>\n",
       "            </tr>\n",
       "            <tr>\n",
       "                        <th id=\"T_936b9ac8_c9dd_11ea_bc47_f48e38e2dc30level0_row29\" class=\"row_heading level0 row29\" rowspan=2>Complain</th>\n",
       "                        <th id=\"T_936b9ac8_c9dd_11ea_bc47_f48e38e2dc30level1_row29\" class=\"row_heading level1 row29\" >0</th>\n",
       "                        <td id=\"T_936b9ac8_c9dd_11ea_bc47_f48e38e2dc30row29_col0\" class=\"data row29 col0\" >2219</td>\n",
       "                        <td id=\"T_936b9ac8_c9dd_11ea_bc47_f48e38e2dc30row29_col1\" class=\"data row29 col1\" >0.149200</td>\n",
       "                        <td id=\"T_936b9ac8_c9dd_11ea_bc47_f48e38e2dc30row29_col2\" class=\"data row29 col2\" >True</td>\n",
       "            </tr>\n",
       "            <tr>\n",
       "                                <th id=\"T_936b9ac8_c9dd_11ea_bc47_f48e38e2dc30level1_row30\" class=\"row_heading level1 row30\" >1</th>\n",
       "                        <td id=\"T_936b9ac8_c9dd_11ea_bc47_f48e38e2dc30row30_col0\" class=\"data row30 col0\" >21</td>\n",
       "                        <td id=\"T_936b9ac8_c9dd_11ea_bc47_f48e38e2dc30row30_col1\" class=\"data row30 col1\" >0.142900</td>\n",
       "                        <td id=\"T_936b9ac8_c9dd_11ea_bc47_f48e38e2dc30row30_col2\" class=\"data row30 col2\" >False</td>\n",
       "            </tr>\n",
       "    </tbody></table>"
      ],
      "text/plain": [
       "<pandas.io.formats.style.Styler at 0x19d30005ec8>"
      ]
     },
     "execution_count": 15,
     "metadata": {},
     "output_type": "execute_result"
    }
   ],
   "source": [
    "# Destaca os atributos com observações insuficientes para análise \n",
    "df_info_categ.style.applymap(highlight)"
   ]
  },
  {
   "cell_type": "code",
   "execution_count": null,
   "metadata": {},
   "outputs": [],
   "source": []
  },
  {
   "cell_type": "code",
   "execution_count": null,
   "metadata": {},
   "outputs": [],
   "source": []
  },
  {
   "cell_type": "code",
   "execution_count": null,
   "metadata": {},
   "outputs": [],
   "source": []
  },
  {
   "cell_type": "code",
   "execution_count": null,
   "metadata": {},
   "outputs": [],
   "source": []
  },
  {
   "cell_type": "code",
   "execution_count": null,
   "metadata": {},
   "outputs": [],
   "source": []
  },
  {
   "cell_type": "code",
   "execution_count": 16,
   "metadata": {},
   "outputs": [
    {
     "ename": "NameError",
     "evalue": "name 'feat_c' is not defined",
     "output_type": "error",
     "traceback": [
      "\u001b[1;31m---------------------------------------------------------------------------\u001b[0m",
      "\u001b[1;31mNameError\u001b[0m                                 Traceback (most recent call last)",
      "\u001b[1;32m<ipython-input-16-a0c426d31652>\u001b[0m in \u001b[0;36m<module>\u001b[1;34m\u001b[0m\n\u001b[0;32m      1\u001b[0m \u001b[1;31m# Plota o gráfico de correlação dos dados categóricos.\u001b[0m\u001b[1;33m\u001b[0m\u001b[1;33m\u001b[0m\u001b[1;33m\u001b[0m\u001b[0m\n\u001b[1;32m----> 2\u001b[1;33m \u001b[0mdf_corr\u001b[0m \u001b[1;33m=\u001b[0m \u001b[0mdf_full\u001b[0m\u001b[1;33m[\u001b[0m\u001b[0mfeat_c\u001b[0m\u001b[1;33m]\u001b[0m\u001b[1;33m.\u001b[0m\u001b[0mcorr\u001b[0m\u001b[1;33m(\u001b[0m\u001b[1;33m)\u001b[0m\u001b[1;33m\u001b[0m\u001b[1;33m\u001b[0m\u001b[0m\n\u001b[0m\u001b[0;32m      3\u001b[0m \u001b[1;33m\u001b[0m\u001b[0m\n\u001b[0;32m      4\u001b[0m \u001b[0mplt\u001b[0m\u001b[1;33m.\u001b[0m\u001b[0mfigure\u001b[0m\u001b[1;33m(\u001b[0m\u001b[0mfigsize\u001b[0m\u001b[1;33m=\u001b[0m\u001b[1;33m(\u001b[0m\u001b[1;36m20\u001b[0m\u001b[1;33m,\u001b[0m\u001b[1;36m8\u001b[0m\u001b[1;33m)\u001b[0m\u001b[1;33m)\u001b[0m\u001b[1;33m\u001b[0m\u001b[1;33m\u001b[0m\u001b[0m\n\u001b[0;32m      5\u001b[0m \u001b[0mmask\u001b[0m \u001b[1;33m=\u001b[0m \u001b[0mnp\u001b[0m\u001b[1;33m.\u001b[0m\u001b[0mtriu\u001b[0m\u001b[1;33m(\u001b[0m\u001b[0mnp\u001b[0m\u001b[1;33m.\u001b[0m\u001b[0mones_like\u001b[0m\u001b[1;33m(\u001b[0m\u001b[0mdf_corr\u001b[0m\u001b[1;33m,\u001b[0m \u001b[0mdtype\u001b[0m\u001b[1;33m=\u001b[0m\u001b[0mnp\u001b[0m\u001b[1;33m.\u001b[0m\u001b[0mbool\u001b[0m\u001b[1;33m)\u001b[0m\u001b[1;33m)\u001b[0m\u001b[1;33m\u001b[0m\u001b[1;33m\u001b[0m\u001b[0m\n",
      "\u001b[1;31mNameError\u001b[0m: name 'feat_c' is not defined"
     ]
    }
   ],
   "source": [
    "# Plota o gráfico de correlação dos dados categóricos.\n",
    "df_corr = df_full[feat_c].corr()\n",
    "\n",
    "plt.figure(figsize=(20,8))\n",
    "mask = np.triu(np.ones_like(df_corr, dtype=np.bool))\n",
    "ax1 = sns.heatmap(df_corr,linewidths=0.1,vmax=1.0, square=True, annot=True, fmt='.4f', annot_kws={\"size\": 9} , cmap=matplotlib.cm.Blues, mask=mask)\n",
    "plt.title('Correlação dos dados categórico\\n')\n",
    "plt.show()"
   ]
  },
  {
   "cell_type": "code",
   "execution_count": null,
   "metadata": {},
   "outputs": [],
   "source": [
    "# Plota o gráfico de correlação dos dados Numericos.\n",
    "df_corr = df_full[feat_n].corr()\n",
    "\n",
    "plt.figure(figsize=(12,8))\n",
    "mask = np.triu(np.ones_like(df_corr, dtype=np.bool))\n",
    "ax1 = sns.heatmap(df_corr,linewidths=0.1,vmax=1.0, square=True, annot=True, fmt='.4f', annot_kws={\"size\": 9} , cmap=matplotlib.cm.Blues, mask=mask)\n",
    "plt.title('Correlação dos dados Numericos\\n')\n",
    "plt.show()"
   ]
  },
  {
   "cell_type": "code",
   "execution_count": null,
   "metadata": {},
   "outputs": [],
   "source": []
  },
  {
   "cell_type": "code",
   "execution_count": null,
   "metadata": {},
   "outputs": [],
   "source": [
    "# Distribuição da variável Target\n",
    "categoria= df_full['Response'].unique()\n",
    "dados = df_full['Response'].value_counts()\n",
    "\n",
    "fig = go.Figure()\n",
    "\n",
    "fig.add_trace( go.Bar(x=categoria, y=dados,   text=dados , textposition = 'auto', marker=dict(color=['dodgerblue', 'indianred']) ))\n",
    "\n",
    "fig.update_layout(\n",
    "    title=\n",
    "    {\n",
    "        'text': 'Distribuição da variável Target (Response)',           \n",
    "        'y':0.95,\n",
    "        'x':0.5,\n",
    "        'xanchor': 'center',\n",
    "        'yanchor': 'top'\n",
    "         \n",
    "    }  ,\n",
    "   \n",
    "    plot_bgcolor='rgba(0,0,0,0)',        \n",
    "    yaxis=dict(title='Quantidade'),    \n",
    "    xaxis=dict(title='Response', tickmode='linear' ,  showline=True, linewidth=1, linecolor='gray') , barmode='stack'\n",
    "    \n",
    "    )\n",
    "\n",
    "fig.show()  "
   ]
  },
  {
   "cell_type": "code",
   "execution_count": null,
   "metadata": {},
   "outputs": [],
   "source": []
  },
  {
   "cell_type": "code",
   "execution_count": null,
   "metadata": {},
   "outputs": [],
   "source": [
    "# Distribuição da variável Target por Estado civil\n",
    "df_estado_civil_classe = df_full.groupby(['Marital_Status', 'Response'], as_index = False).agg({'ID': 'count'})\n",
    "\n",
    "categoria= df_estado_civil_classe['Marital_Status'].unique()\n",
    "dados_classe0 = df_estado_civil_classe[df_estado_civil_classe.Response == 0]['ID']\n",
    "dados_classe1 = df_estado_civil_classe[df_estado_civil_classe.Response == 1]['ID']\n",
    "\n",
    "fig = go.Figure()\n",
    "\n",
    "fig.add_trace( go.Bar(x=categoria, y=dados_classe0,  name='Não Comprou', text=dados_classe0 , textposition = 'auto', marker_color='indianred' ))\n",
    "fig.add_trace( go.Bar(x=categoria, y=dados_classe1,  name='Comprou',     text=dados_classe1 , textposition = 'auto', marker_color='dodgerblue' ))\n",
    "\n",
    "fig.update_layout(\n",
    "    title=\n",
    "    {\n",
    "        'text': 'Distribuição da variável Target por Estado Civil',           \n",
    "        'y':0.95,\n",
    "        'x':0.5,\n",
    "        'xanchor': 'center',\n",
    "        'yanchor': 'top'\n",
    "         \n",
    "    }  ,\n",
    "    \n",
    "    plot_bgcolor='rgba(0,0,0,0)',        \n",
    "    yaxis=dict(title='Quantidade'),    \n",
    "    xaxis=dict(title='Estado Civil', tickmode='linear' ,  showline=True, linewidth=1, linecolor='gray') , barmode='stack'\n",
    "    \n",
    "    )\n",
    "\n",
    "fig.show()   \n"
   ]
  },
  {
   "cell_type": "code",
   "execution_count": null,
   "metadata": {},
   "outputs": [],
   "source": [
    "# Distribuição da variável Target por Escolaridade\n",
    "df_escolaridade_classe = df_full.groupby(['Education', 'Response'], as_index = False).agg({'ID': 'count'})\n",
    "\n",
    "categoria= df_escolaridade_classe['Education'].unique()\n",
    "dados_classe0 = df_escolaridade_classe[df_escolaridade_classe.Response == 0]['ID']\n",
    "dados_classe1 = df_escolaridade_classe[df_escolaridade_classe.Response == 1]['ID']\n",
    "\n",
    "fig = go.Figure()\n",
    "\n",
    "fig.add_trace( go.Bar(x=categoria, y=dados_classe0,  name='Não Comprou', text=dados_classe0 , textposition = 'auto', marker_color='indianred' ))\n",
    "fig.add_trace( go.Bar(x=categoria, y=dados_classe1,  name='Comprou',     text=dados_classe1 , textposition = 'auto', marker_color='dodgerblue' ))\n",
    "\n",
    "fig.update_layout(\n",
    "    title=\n",
    "    {\n",
    "        'text': 'Distribuição da variável Target por Escolaridade',           \n",
    "        'y':0.95,\n",
    "        'x':0.5,\n",
    "        'xanchor': 'center',\n",
    "        'yanchor': 'top'\n",
    "         \n",
    "    }  ,\n",
    "    \n",
    "    plot_bgcolor='rgba(0,0,0,0)',        \n",
    "    yaxis=dict(title='Quantidade'),    \n",
    "    xaxis=dict(title='Escolaridade', tickmode='linear' ,  showline=True, linewidth=1, linecolor='gray') , barmode='stack'\n",
    "    \n",
    "    )\n",
    "\n",
    "fig.show()   \n"
   ]
  },
  {
   "cell_type": "code",
   "execution_count": null,
   "metadata": {},
   "outputs": [],
   "source": []
  },
  {
   "cell_type": "code",
   "execution_count": null,
   "metadata": {},
   "outputs": [],
   "source": []
  },
  {
   "cell_type": "code",
   "execution_count": null,
   "metadata": {},
   "outputs": [],
   "source": []
  },
  {
   "cell_type": "markdown",
   "metadata": {},
   "source": [
    "## Adicionar e Tratar colunas no dataframe\n",
    "- Vamos adicionar e tratar algumas colunas para nos ajudar na análise"
   ]
  },
  {
   "cell_type": "code",
   "execution_count": null,
   "metadata": {},
   "outputs": [],
   "source": [
    "# Olhando os tipos e formato dos dados\n",
    "df_full.info()"
   ]
  },
  {
   "cell_type": "code",
   "execution_count": null,
   "metadata": {},
   "outputs": [],
   "source": [
    "# Convertendo os tipos de algumas colunas.\n",
    "df_full['Education'] = df_full['Education'].astype('category')\n",
    "df_full['Marital_Status'] = df_full['Marital_Status'].astype('category')\n",
    "df_full['Dt_Customer'] = pd.to_datetime(df_full['Dt_Customer'],  dayfirst=True)\n"
   ]
  },
  {
   "cell_type": "code",
   "execution_count": null,
   "metadata": {},
   "outputs": [],
   "source": [
    "# Obtém a data e hora atual\n",
    "now = datetime.datetime.now()\n",
    "\n",
    "#Adicionar a coluna Age no dataset\n",
    "df_full['Age'] =  now.year - df_full['Year_Birth'] "
   ]
  },
  {
   "cell_type": "code",
   "execution_count": null,
   "metadata": {},
   "outputs": [],
   "source": [
    "# Distribuição das idades\n",
    "df_full['Age'].hist()"
   ]
  },
  {
   "cell_type": "code",
   "execution_count": null,
   "metadata": {},
   "outputs": [],
   "source": [
    "# Adicionar a coluna de faixas etárias\n",
    "df_full['Age_Group'] = np.where(df_full.Age<30,        '20-29', \n",
    "         np.where((df_full.Age>29) & (df_full.Age<39) ,'30-39', \n",
    "         np.where((df_full.Age>39) & (df_full.Age<49) ,'40-59',          \n",
    "         np.where((df_full.Age>49) & (df_full.Age<59) ,'50-59',                            \n",
    "         np.where((df_full.Age>59) & (df_full.Age<69) ,'60-69',               \n",
    "                                                       '>69')))))"
   ]
  },
  {
   "cell_type": "code",
   "execution_count": null,
   "metadata": {},
   "outputs": [],
   "source": []
  },
  {
   "cell_type": "code",
   "execution_count": null,
   "metadata": {},
   "outputs": [],
   "source": [
    "# Distribuição por Classe e faixa etária\n",
    "df_faixa_etaria_classe = df_full.groupby(['Age_Group', 'Response'], as_index = False).agg({'ID': 'count'})\n",
    "\n",
    "categoria= df_faixa_etaria_classe['Age_Group'].unique()\n",
    "dados_classe0 = df_faixa_etaria_classe[df_faixa_etaria_classe.Response == 0]['ID']\n",
    "dados_classe1 = df_faixa_etaria_classe[df_faixa_etaria_classe.Response == 1]['ID']\n",
    "\n",
    "fig = go.Figure()\n",
    "\n",
    "fig.add_trace( go.Bar(x=categoria, y=dados_classe0,  name='Não Comprou', text=dados_classe0 , textposition = 'auto', marker_color='indianred' ))\n",
    "fig.add_trace( go.Bar(x=categoria, y=dados_classe1,  name='Comprou',     text=dados_classe1 , textposition = 'auto', marker_color='dodgerblue' ))\n",
    "\n",
    "fig.update_layout(\n",
    "    title=\n",
    "    {\n",
    "        'text': 'Distribuição da variável Target porfaixa etária',           \n",
    "        'y':0.95,\n",
    "        'x':0.5,\n",
    "        'xanchor': 'center',\n",
    "        'yanchor': 'top'\n",
    "         \n",
    "    }  ,\n",
    "    \n",
    "    plot_bgcolor='rgba(0,0,0,0)',        \n",
    "    yaxis=dict(title='Quantidade'),    \n",
    "    xaxis=dict(title='Faixa Etária', tickmode='linear' ,  showline=True, linewidth=1, linecolor='gray') , barmode='stack'\n",
    "    \n",
    "    )\n",
    "\n",
    "fig.show()   \n"
   ]
  },
  {
   "cell_type": "code",
   "execution_count": null,
   "metadata": {},
   "outputs": [],
   "source": []
  },
  {
   "cell_type": "code",
   "execution_count": null,
   "metadata": {},
   "outputs": [],
   "source": [
    "# Soma o valor gasto com todos os tipos de produto.\n",
    "df_full['MntTotal'] = df_full['MntWines'] + df_full['MntFruits']  +  df_full['MntMeatProducts']  +  df_full['MntFishProducts']  +  df_full['MntSweetProducts']  +  df_full['MntGoldProds']  \n",
    "\n",
    "# Soma a quantidade de todos os tipos de produto.\n",
    "df_full['NumTotal'] = df_full['NumDealsPurchases'] + df_full['NumWebPurchases']  +  df_full['NumCatalogPurchases']  +  df_full['NumStorePurchases']  \t\t\t\t\n"
   ]
  },
  {
   "cell_type": "code",
   "execution_count": null,
   "metadata": {},
   "outputs": [],
   "source": [
    "df_full.head()"
   ]
  },
  {
   "cell_type": "markdown",
   "metadata": {},
   "source": [
    "# Análise RFM - Recência (R), Frequência (F), Monetaridade (M).\n",
    "\n",
    "- Nesta etapa vamos realizar um breve análise RFM. \n",
    "- RFM é um método utilizado para analisar o comportamento do cliente e definir segmentos de mercado. É comumente utilizada em database marketing e marketing direto e tem recebido atenção especial no varejo (wikipedia).\n",
    "- Essa técnica tem como objetivo classificar os clientes por meio de pontuações nos três principais pilares que nomeiam o método: quando foi sua última compra, quantas vezes ele já comprou e quanto já gastou com na empresa.\n",
    "\n",
    "\n",
    "- Essa técnica pode nos ajudar a responder as seguintes perguntas:\n",
    "  - Quais são os melhores clientes?\n",
    "  - Quais clientes tem mais potencial para ser fidelizado?\n",
    "  - Quais clientes tem mais chances de não comprar mais meus produtos?\n",
    "  - Quais clientes possuem mais chances de responder a uma campanha de Marketing?\n"
   ]
  },
  {
   "cell_type": "code",
   "execution_count": null,
   "metadata": {},
   "outputs": [],
   "source": []
  },
  {
   "cell_type": "code",
   "execution_count": null,
   "metadata": {},
   "outputs": [],
   "source": [
    "# Cria o dataframe RFM - Recência (R), Frequência (F), Monetaridade (M).\n",
    "df_RFM = pd.DataFrame()\n",
    "df_RFM ['ID']  = df_full['ID']\n",
    "df_RFM ['Recency']  = df_full['Recency']\n",
    "df_RFM ['Frequency']= df_full['NumTotal']\n",
    "df_RFM ['Monetary'] = df_full['MntTotal']"
   ]
  },
  {
   "cell_type": "code",
   "execution_count": null,
   "metadata": {},
   "outputs": [],
   "source": [
    "#  Distribuição das varíaveis RFM - Recência (R), Frequência (F), Monetaridade (M).\n",
    "print('\\nDistribuição das varíaveis RFM - Recência (R), Frequência (F), Monetaridade (M).')\n",
    "plt.figure(figsize=(12,10))\n",
    "plt.subplot(3, 1, 1); sns.distplot(df_RFM['Recency'])\n",
    "plt.subplot(3, 1, 2); sns.distplot(df_RFM['Frequency'])\n",
    "plt.subplot(3, 1, 3); sns.distplot(df_RFM['Monetary'])\n",
    "\n",
    "plt.show()"
   ]
  },
  {
   "cell_type": "code",
   "execution_count": null,
   "metadata": {},
   "outputs": [],
   "source": [
    "#df_RFM['Quintiles']"
   ]
  },
  {
   "cell_type": "code",
   "execution_count": null,
   "metadata": {},
   "outputs": [],
   "source": [
    "# Criando os quintis onde cada um contém 20% da população.\n",
    "quintis = df_RFM[['Recency', 'Frequency', 'Monetary']].quantile([.2, .4, .6, .8]).to_dict()\n",
    "quintis"
   ]
  },
  {
   "cell_type": "code",
   "execution_count": null,
   "metadata": {},
   "outputs": [],
   "source": [
    "\n",
    "# Cria o método para atribuir uma classificão a recência de 1 a 5 (Quanto menor melhor).\n",
    "def r_score(x):\n",
    "    if x <= quintis['Recency'][.2]:\n",
    "        return 5\n",
    "    elif x <= quintis['Recency'][.4]:\n",
    "        return 4\n",
    "    elif x <= quintis['Recency'][.6]:\n",
    "        return 3\n",
    "    elif x <= quintis['Recency'][.8]:\n",
    "        return 2\n",
    "    else:\n",
    "        return 1\n",
    "    \n",
    "# Cria o método para atribuir uma classificão a Frquencia e Monetaridade de 1 a 5 (Quanto maior melhor).\n",
    "def fm_score(x, c):\n",
    "    if x <= quintis[c][.2]:\n",
    "        return 1\n",
    "    elif x <= quintis[c][.4]:\n",
    "        return 2\n",
    "    elif x <= quintis[c][.6]:\n",
    "        return 3\n",
    "    elif x <= quintis[c][.8]:\n",
    "        return 4\n",
    "    else:\n",
    "        return 5    "
   ]
  },
  {
   "cell_type": "code",
   "execution_count": null,
   "metadata": {},
   "outputs": [],
   "source": [
    "   "
   ]
  },
  {
   "cell_type": "code",
   "execution_count": null,
   "metadata": {},
   "outputs": [],
   "source": []
  },
  {
   "cell_type": "code",
   "execution_count": null,
   "metadata": {},
   "outputs": [],
   "source": [
    "# Calcula os Scores do RFM e adiciona no dataframe\n",
    "df_RFM['R'] = df_RFM['Recency'].apply(lambda x: r_score(x))\n",
    "df_RFM['F'] = df_RFM['Frequency'].apply(lambda x: fm_score(x, 'Frequency'))\n",
    "df_RFM['M'] = df_RFM['Monetary'].apply(lambda x: fm_score(x, 'Monetary'))\n",
    "df_RFM['RFM_Concat'] = df_RFM['R'].map(str) + df_RFM['F'].map(str) + df_RFM['M'].map(str)\n",
    "df_RFM['RFM_Score'] = df_RFM[['R','F','M']].sum(axis=1)\n",
    "\n",
    "df_RFM.head()"
   ]
  },
  {
   "cell_type": "code",
   "execution_count": null,
   "metadata": {},
   "outputs": [],
   "source": []
  },
  {
   "cell_type": "code",
   "execution_count": null,
   "metadata": {},
   "outputs": [],
   "source": [
    "# Cria o método para atribuir o RFM_Score um segmento. OBS: Os segmentos abaixos foram baseados nos mais comuns utilizados.\n",
    "def rfm_level(df):\n",
    "    if df['RFM_Score'] >= 9:\n",
    "        return 'Não posso perdê-los'\n",
    "    elif ((df['RFM_Score'] >= 8) and (df['RFM_Score'] < 9)):\n",
    "        return 'Campeões'\n",
    "    elif ((df['RFM_Score'] >= 7) and (df['RFM_Score'] < 8)):\n",
    "        return 'Fiel'\n",
    "    elif ((df['RFM_Score'] >= 6) and (df['RFM_Score'] < 7)):\n",
    "        return 'Potencial'\n",
    "    elif ((df['RFM_Score'] >= 5) and (df['RFM_Score'] < 6)):\n",
    "        return 'Promissor'\n",
    "    elif ((df['RFM_Score'] >= 4) and (df['RFM_Score'] < 5)):\n",
    "        return 'Requer atenção'\n",
    "    else:\n",
    "        return 'Perdido'"
   ]
  },
  {
   "cell_type": "code",
   "execution_count": null,
   "metadata": {},
   "outputs": [],
   "source": [
    "# Cria a coluna e atribui um segmento\n",
    "df_RFM['RFM_Level'] = df_RFM.apply(rfm_level, axis=1)\n",
    "\n"
   ]
  },
  {
   "cell_type": "code",
   "execution_count": null,
   "metadata": {},
   "outputs": [],
   "source": [
    "# Exibe os 10 melhores clientes de acordo com RFM\n",
    "print('Top 10 melhores clientes de acordo com RFM')\n",
    "df_RFM.sort_values(by = ['RFM_Score','Monetary'] , ascending=False).head(10)"
   ]
  },
  {
   "cell_type": "code",
   "execution_count": null,
   "metadata": {},
   "outputs": [],
   "source": [
    "# Exibe os 10 piores clientes de acordo com RFM\n",
    "print('Top 10 piores clientes de acordo com RFM')\n",
    "df_RFM.sort_values(by = ['RFM_Score','Monetary'] , ascending=True).head(10)"
   ]
  },
  {
   "cell_type": "code",
   "execution_count": null,
   "metadata": {},
   "outputs": [],
   "source": [
    "# Agrupando os Segmentos RFM pela média e quantidade.\n",
    "df_RFM_Level_AGG = df_RFM.groupby('RFM_Level').agg({'Recency': 'mean','Frequency': 'mean', 'Monetary': ['mean', 'count'], 'RFM_Score': 'max'}).round(2)\n",
    "df_RFM_Level_AGG"
   ]
  },
  {
   "cell_type": "code",
   "execution_count": null,
   "metadata": {},
   "outputs": [],
   "source": []
  },
  {
   "cell_type": "code",
   "execution_count": null,
   "metadata": {},
   "outputs": [],
   "source": [
    "#Prepara o dataframe para melhor exibição\n",
    "df_RFM_Level_AGG.columns = df_RFM_Level_AGG.columns.droplevel()\n",
    "df_RFM_Level_AGG.columns = ['RecencyMean','FrequencyMean','MonetaryMean', 'Count', 'RFM_Score']\n",
    "df_RFM_Level_AGG.reset_index(inplace=True)\n",
    "df_RFM_Level_AGG.sort_values(by = 'RFM_Score', inplace=True)\n",
    "df_RFM_Level_AGG"
   ]
  },
  {
   "cell_type": "code",
   "execution_count": null,
   "metadata": {},
   "outputs": [],
   "source": []
  },
  {
   "cell_type": "code",
   "execution_count": null,
   "metadata": {},
   "outputs": [],
   "source": [
    "# Plota o grafico dos segmentos RFM\n",
    "\n",
    "labels = df_RFM_Level_AGG.RFM_Level+ ' (Score: ' +  df_RFM_Level_AGG.RFM_Score.map(str) +  ')\\nR: ' +  df_RFM_Level_AGG.RecencyMean.map(str) + '\\nF: ' + df_RFM_Level_AGG.FrequencyMean.map(str) + '\\nM: ' + df_RFM_Level_AGG.MonetaryMean.map(str) + ' \\nQty: ' +  df_RFM_Level_AGG.Count.map(str)\n",
    "\n",
    "size = df_RFM_Level_AGG.Count\n",
    "\n",
    "color_values =sorted( df_RFM_Level_AGG.RFM_Score.values, reverse=True)\n",
    "\n",
    "cmap = matplotlib.cm.Blues\n",
    "mini=min(color_values)\n",
    "maxi=max(color_values)\n",
    "norm = matplotlib.colors.Normalize(vmin=mini, vmax=maxi)\n",
    "colors = [cmap(norm(value*1.5)) for value in color_values]\n",
    "\n",
    "fig = plt.gcf()\n",
    "ax = fig.add_subplot()\n",
    "fig.set_size_inches(18, 8)\n",
    "squarify.plot(sizes=size, \n",
    "              label=labels, \n",
    "              alpha=.8, \n",
    "              color=colors                    \n",
    "             )\n",
    "plt.title(\"\\nSegmentos RFM\\n\",fontsize=18,fontweight=\"bold\")\n",
    "plt.axis('off')\n",
    "plt.show()"
   ]
  },
  {
   "cell_type": "code",
   "execution_count": null,
   "metadata": {},
   "outputs": [],
   "source": []
  },
  {
   "cell_type": "markdown",
   "metadata": {},
   "source": [
    "# Análise de Agrupamento (cluster)\n",
    "\n",
    "- Nesta etapa vamos realizar um breve análise de como os clientes estão agrupados. "
   ]
  },
  {
   "cell_type": "code",
   "execution_count": null,
   "metadata": {},
   "outputs": [],
   "source": [
    "df_RFM.describe()"
   ]
  },
  {
   "cell_type": "code",
   "execution_count": null,
   "metadata": {},
   "outputs": [],
   "source": []
  },
  {
   "cell_type": "code",
   "execution_count": null,
   "metadata": {},
   "outputs": [],
   "source": [
    "# Seleciona os atributos previsores\n",
    "atributos_previsores = df_RFM.iloc[:, 1:4]\n",
    "atributos_previsores.shape"
   ]
  },
  {
   "cell_type": "code",
   "execution_count": null,
   "metadata": {},
   "outputs": [],
   "source": []
  },
  {
   "cell_type": "code",
   "execution_count": null,
   "metadata": {},
   "outputs": [],
   "source": [
    "#  Distribuição das varíaveis RFM - Recência (R), Frequência (F), Monetaridade (M).\n",
    "print('\\nDistribuição das varíaveis RFM - Recência (R), Frequência (F), Monetaridade (M)\\n')\n",
    "plt.figure(figsize=(12,10))\n",
    "plt.subplot(3, 1, 1); sns.distplot(atributos_previsores['Recency'])\n",
    "plt.subplot(3, 1, 2); sns.distplot(atributos_previsores['Frequency'])\n",
    "plt.subplot(3, 1, 3); sns.distplot(atributos_previsores['Monetary'])\n",
    "plt.show()"
   ]
  },
  {
   "cell_type": "code",
   "execution_count": null,
   "metadata": {},
   "outputs": [],
   "source": [
    "# Tratar os valores zeros antes da tranformação de Log\n",
    "atributos_previsores['Recency']   =  atributos_previsores['Recency'] + 0.0000000001\n",
    "atributos_previsores['Frequency'] =  atributos_previsores['Frequency'] + 0.0000000001\n",
    "atributos_previsores['Monetary']  =  atributos_previsores['Monetary'] + 0.0000000001"
   ]
  },
  {
   "cell_type": "code",
   "execution_count": null,
   "metadata": {},
   "outputs": [],
   "source": [
    "# Aplica a tranformação de Log para deixar os dados mais próximo da distribuição normal.\n",
    "atributos_previsores_log =  atributos_previsores[['Recency', 'Frequency', 'Monetary']].apply(np.log, axis = 1).round(3)\n",
    "\n",
    "#  Distribuição das varíaveis RFM - Recência (R), Frequência (F), Monetaridade (M) após a tranformação de Log.\n",
    "print('\\nDistribuição das varíaveis RFM - Recência (R), Frequência (F), Monetaridade (M) após a tranformação de Log.\\n')\n",
    "plt.figure(figsize=(12,10))\n",
    "plt.subplot(3, 1, 1); sns.distplot(atributos_previsores_log['Recency'])\n",
    "plt.subplot(3, 1, 2); sns.distplot(atributos_previsores_log['Frequency'])\n",
    "plt.subplot(3, 1, 3); sns.distplot(atributos_previsores_log['Monetary'])\n",
    "plt.show()"
   ]
  },
  {
   "cell_type": "code",
   "execution_count": null,
   "metadata": {},
   "outputs": [],
   "source": []
  },
  {
   "cell_type": "code",
   "execution_count": null,
   "metadata": {},
   "outputs": [],
   "source": [
    "# StandardScaler para colocar todos os valores na mesma escala (escalonamento).\n",
    "from sklearn.preprocessing import StandardScaler\n",
    "scaler = StandardScaler()\n",
    "atributos_previsores_norm = scaler.fit_transform(atributos_previsores_log)\n",
    "atributos_previsores_norm.shape"
   ]
  },
  {
   "cell_type": "code",
   "execution_count": null,
   "metadata": {},
   "outputs": [],
   "source": [
    "# Verificando a quantidade de Clusters ideal para este conjunto de dados.\n",
    "# Basicamente existem três formas de fazer isso:\n",
    "#    1 - Conhecimento Prévio da quatidade de Clusters;\n",
    "#    2 - Sem conhecimento prévio da quatidade de Clusters, podemos usar a regra geral dada pela fórmula: cluters = Raiz quadrada de N/2, onde N é quatidade de registros;\n",
    "#    3 - Utilizando o Elbow Method;\n",
    "# Aqui vamos usar o Elbow Method (https://en.wikipedia.org/wiki/Elbow_method_(clustering))\n",
    "# Após o valor indicado pelo “cotovelo” (curva acentuada) no gráfico indica que não possui ganho em relação ao aumento de clusters.\n",
    "# Nesse ponto, significa que o método encontrou o número ideal para o argumento k.\n",
    "# Obs: Nenhum destes métodos garante encontrar a quantidade ideal de cluters, para isso é necessário realizar diversos testes na base de dados.\n",
    "# https://scikit-learn.org/stable/modules/generated/sklearn.cluster.KMeans.html#sklearn.cluster.KMeans\n",
    "\n",
    "# Para esse estudo vamos considerar o número de Clusters igual a 4.\n",
    "\n",
    "from sklearn.cluster import KMeans\n",
    "\n",
    "# Within cluster sum of squares\n",
    "wcss = []\n",
    "for i in range(1, 11):\n",
    "    kmeans = KMeans(n_clusters = i, random_state = 1)\n",
    "    kmeans.fit(atributos_previsores_norm)\n",
    "    wcss.append(kmeans.inertia_)\n",
    "\n",
    "plt.figure(figsize = (10 ,5))\n",
    "plt.plot(range(1, 11), wcss, 'o')\n",
    "plt.plot(np.arange(1 , 11) , wcss , '-' , alpha = 0.5)\n",
    "plt.xlabel('Clusters (k)')\n",
    "plt.ylabel('Sum Squared Errors (SSE)')\n",
    "plt.title('Elbow Method');"
   ]
  },
  {
   "cell_type": "code",
   "execution_count": null,
   "metadata": {},
   "outputs": [],
   "source": []
  },
  {
   "cell_type": "code",
   "execution_count": null,
   "metadata": {},
   "outputs": [],
   "source": [
    "# Cria a função para calcular o centroide dos clusters\n",
    "def cacular_centroide(x, y):\n",
    "    return (np.sum(x)/len(x), np.sum(y)/len(y))"
   ]
  },
  {
   "cell_type": "code",
   "execution_count": null,
   "metadata": {},
   "outputs": [],
   "source": [
    "# Cria a função para Plotar os graficos dos agrupamentos\n",
    "def plota_graficos_clusters(atributos, previsoes, nome_algoritmo, x_label, y_label):\n",
    "\n",
    "    colors = ['tab:blue','tab:green','tab:red','tab:orange','tab:purple','tab:cyan','tab:olive','tab:pink','tab:gray','gold']\n",
    "    markers = ['*', '^', 'X', '+', 'D', 'H', 'o', '+', 's', 'v']\n",
    "    \n",
    "    plt.figure(figsize=(16,6))\n",
    "    plt.title('Previsões Algoritmo ' + nome_algoritmo)   \n",
    "\n",
    "    for i in np.unique(previsoes):\n",
    "        \n",
    "        x = atributos[previsoes == i][x_label].values\n",
    "        y = atributos[previsoes == i][y_label].values\n",
    "        centroide = cacular_centroide(x,y)\n",
    "\n",
    "        if i < 0:\n",
    "            nome =  'Sem Cluster ' + str(i)\n",
    "            plt.scatter(x, y, s = 50, c = 'gray', label = nome, alpha=.7)\n",
    "            plt.scatter(centroide[0],  centroide[1], marker = markers[i+1], s = 100, c = 'black',  label = (nome + '-Centoide'))\n",
    "        else:\n",
    "            nome = 'Cluster ' + str(i+1)          \n",
    "            plt.scatter(x, y, s = 50, c = colors[i], label =  nome, alpha=.7)\n",
    "            plt.scatter(centroide[0],  centroide[1], marker = markers[i+1], s = 100, c = 'black', label = (nome + '-Centoide'))\n",
    "\n",
    "    plt.xlabel(x_label)\n",
    "    plt.ylabel(y_label)\n",
    "    plt.legend()\n",
    "    #plt.savefig(fname=nome_algoritmo +'.png', dpi=100)\n",
    "    plt.show()"
   ]
  },
  {
   "cell_type": "code",
   "execution_count": null,
   "metadata": {},
   "outputs": [],
   "source": []
  },
  {
   "cell_type": "code",
   "execution_count": null,
   "metadata": {},
   "outputs": [],
   "source": [
    "# Cria o modelo de agrupamgento KMeans\n",
    "kmeans = KMeans(n_clusters = 4, random_state = 1)\n",
    "previsoes_kmeans = kmeans.fit_predict(atributos_previsores_norm)"
   ]
  },
  {
   "cell_type": "raw",
   "metadata": {},
   "source": [
    "# Adiciona a coluna com o rotulo do cluster no dataframe RFM original\n",
    "df_kmeans = df_RFM.assign(Cluster = kmeans.labels_)\n",
    "\n",
    "# Agrupa o dataframe pelos clusters\n",
    "df_kmeans_AGG = df_kmeans.groupby(['Cluster']).agg({\n",
    "    'Recency': 'mean',\n",
    "    'Frequency': 'mean',\n",
    "    'Monetary': ['mean', 'count']    \n",
    "}).round(2)\n",
    "\n",
    "df_kmeans_AGG"
   ]
  },
  {
   "cell_type": "code",
   "execution_count": null,
   "metadata": {},
   "outputs": [],
   "source": []
  },
  {
   "cell_type": "code",
   "execution_count": null,
   "metadata": {},
   "outputs": [],
   "source": [
    "# Adiciona a coluna com o rotulo do cluster no dataframe RFM original\n",
    "df_kmeans = df_RFM.assign(Cluster = kmeans.labels_)\n",
    "\n",
    "# Observando as Estatística descritiva dos clusters.\n",
    "df_kmeans[['Recency','Frequency', 'Monetary', 'Cluster']].groupby(\"Cluster\").describe().round(0)"
   ]
  },
  {
   "cell_type": "code",
   "execution_count": null,
   "metadata": {},
   "outputs": [],
   "source": [
    "# Agrupa o dataframe pelos clusters\n",
    "df_kmeans_AGG = df_kmeans.groupby(['Cluster']).agg({'Recency': 'mean', 'Frequency': 'mean', 'Monetary': ['mean', 'count']}).round(2)\n",
    "df_kmeans_AGG"
   ]
  },
  {
   "cell_type": "code",
   "execution_count": null,
   "metadata": {},
   "outputs": [],
   "source": []
  },
  {
   "cell_type": "code",
   "execution_count": null,
   "metadata": {},
   "outputs": [],
   "source": [
    "\n"
   ]
  },
  {
   "cell_type": "code",
   "execution_count": null,
   "metadata": {},
   "outputs": [],
   "source": [
    "# Plota o grafico com os agrupamentos\n",
    "plota_graficos_clusters(atributos_previsores,previsoes_kmeans, 'Kmeans', 'Recency', 'Monetary')"
   ]
  },
  {
   "cell_type": "code",
   "execution_count": null,
   "metadata": {},
   "outputs": [],
   "source": [
    "# Plota o grafico com os agrupamentos\n",
    "plota_graficos_clusters(atributos_previsores,previsoes_kmeans, 'Kmeans', 'Frequency', 'Monetary')"
   ]
  },
  {
   "cell_type": "code",
   "execution_count": null,
   "metadata": {},
   "outputs": [],
   "source": [
    "# Plota o grafico com os agrupamentos\n",
    "plota_graficos_clusters(atributos_previsores,previsoes_kmeans, 'Kmeans', 'Frequency', 'Recency')"
   ]
  },
  {
   "cell_type": "code",
   "execution_count": null,
   "metadata": {},
   "outputs": [],
   "source": [
    "df_kmeans[['Cluster','Recency']].groupby(['Cluster']).mean()"
   ]
  },
  {
   "cell_type": "code",
   "execution_count": null,
   "metadata": {},
   "outputs": [],
   "source": [
    "#Prepara o dataframe para melhor exibição\n",
    "df_kmeans_AGG.columns = df_kmeans_AGG.columns.droplevel()\n",
    "df_kmeans_AGG.columns = ['RecencyMean','FrequencyMean','MonetaryMean', 'Count']\n",
    "df_kmeans_AGG.reset_index(inplace=True)\n",
    "#df_kmeans_AGG.sort_values(by = 'RFM_Score', inplace=True)\n",
    "df_kmeans_AGG"
   ]
  },
  {
   "cell_type": "code",
   "execution_count": null,
   "metadata": {},
   "outputs": [],
   "source": []
  },
  {
   "cell_type": "code",
   "execution_count": null,
   "metadata": {},
   "outputs": [],
   "source": []
  },
  {
   "cell_type": "code",
   "execution_count": null,
   "metadata": {},
   "outputs": [],
   "source": []
  },
  {
   "cell_type": "code",
   "execution_count": null,
   "metadata": {},
   "outputs": [],
   "source": [
    "# Distribuição das variáveis pr Cluster\n",
    "trace1 =  go.Bar(x= df_kmeans_AGG.Cluster, y= df_kmeans_AGG.RecencyMean  , text=df_kmeans_AGG.RecencyMean  , textposition = 'auto', marker=dict(color=['blue', 'deepskyblue', 'purple', 'tan']) , opacity=0.6)\n",
    "trace2 =  go.Bar(x= df_kmeans_AGG.Cluster, y= df_kmeans_AGG.FrequencyMean, text=df_kmeans_AGG.FrequencyMean, textposition = 'auto', marker=dict(color=['blue', 'deepskyblue', 'purple', 'tan']) , opacity=0.6 )\n",
    "trace3 =  go.Bar(x= df_kmeans_AGG.Cluster, y= df_kmeans_AGG.MonetaryMean , text=df_kmeans_AGG.MonetaryMean , textposition = 'auto', marker=dict(color=['blue', 'deepskyblue', 'purple', 'tan'])  , opacity=0.6)\n",
    "trace4 =  go.Bar(x= df_kmeans_AGG.Cluster, y= df_kmeans_AGG.Count        , text=df_kmeans_AGG.Count        , textposition = 'auto', marker=dict(color=['blue', 'deepskyblue', 'purple', 'tan'])  , opacity=0.6)\n",
    "\n",
    "fig = make_subplots(rows=2, cols=2, \n",
    "                    subplot_titles=(\"Distribuição da Média da Recência por cluster\", \"Distribuição da Média da Frequência por cluster\", \"Distribuição da Média  do Valor por cluster\", \"Quantidade de Clientes por cluster\")\n",
    "                    ,vertical_spacing= 0.2) \n",
    "\n",
    "fig.append_trace(trace1, 1, 1)\n",
    "fig.append_trace(trace2, 1, 2)\n",
    "fig.append_trace(trace3, 2, 1)\n",
    "fig.append_trace(trace4, 2, 2)\n",
    "\n",
    "fig.update_yaxes(row=1, col=1, title_text='RecencyMean')\n",
    "fig.update_yaxes(row=1, col=2, title_text='FrequencyMean')\n",
    "fig.update_yaxes(row=2, col=1, title_text='MonetaryMean')\n",
    "fig.update_yaxes(row=2, col=2, title_text='Quantity')\n",
    "\n",
    "fig.update_xaxes(row=1, col=1, title_text='Cluster', showline=False, linecolor='gray', tickmode='linear') \n",
    "fig.update_xaxes(row=1, col=2, title_text='Cluster', showline=False, linecolor='gray', tickmode='linear') \n",
    "fig.update_xaxes(row=2, col=1, title_text='Cluster', showline=False, linecolor='gray', tickmode='linear') \n",
    "fig.update_xaxes(row=2, col=2, title_text='Cluster', showline=False, linecolor='gray', tickmode='linear') \n",
    "\n",
    "fig.update_layout(plot_bgcolor='rgba(0,0,0,0)' , showlegend=False, height=600)\n",
    "\n",
    "fig.show()  "
   ]
  },
  {
   "cell_type": "code",
   "execution_count": null,
   "metadata": {},
   "outputs": [],
   "source": []
  },
  {
   "cell_type": "code",
   "execution_count": null,
   "metadata": {},
   "outputs": [],
   "source": []
  },
  {
   "cell_type": "code",
   "execution_count": null,
   "metadata": {},
   "outputs": [],
   "source": []
  },
  {
   "cell_type": "code",
   "execution_count": null,
   "metadata": {},
   "outputs": [],
   "source": []
  },
  {
   "cell_type": "code",
   "execution_count": null,
   "metadata": {},
   "outputs": [],
   "source": []
  },
  {
   "cell_type": "code",
   "execution_count": null,
   "metadata": {},
   "outputs": [],
   "source": []
  },
  {
   "cell_type": "code",
   "execution_count": null,
   "metadata": {},
   "outputs": [],
   "source": []
  },
  {
   "cell_type": "code",
   "execution_count": null,
   "metadata": {},
   "outputs": [],
   "source": []
  },
  {
   "cell_type": "code",
   "execution_count": null,
   "metadata": {},
   "outputs": [],
   "source": [
    "# Salva do Dataframe em CSV\n",
    "df_kmeans.to_csv('df_kmeans.csv', index=False, sep=';', encoding='utf-8-sig')\n",
    "#df_kmeans.to_csv('df_kmeans.csv', index=False, sep=';', encoding='utf-8-sig')"
   ]
  },
  {
   "cell_type": "code",
   "execution_count": null,
   "metadata": {},
   "outputs": [],
   "source": []
  },
  {
   "cell_type": "code",
   "execution_count": null,
   "metadata": {},
   "outputs": [],
   "source": []
  },
  {
   "cell_type": "code",
   "execution_count": null,
   "metadata": {},
   "outputs": [],
   "source": []
  },
  {
   "cell_type": "code",
   "execution_count": null,
   "metadata": {},
   "outputs": [],
   "source": []
  },
  {
   "cell_type": "code",
   "execution_count": null,
   "metadata": {},
   "outputs": [],
   "source": []
  },
  {
   "cell_type": "code",
   "execution_count": null,
   "metadata": {},
   "outputs": [],
   "source": []
  },
  {
   "cell_type": "code",
   "execution_count": null,
   "metadata": {},
   "outputs": [],
   "source": []
  },
  {
   "cell_type": "code",
   "execution_count": null,
   "metadata": {},
   "outputs": [],
   "source": []
  },
  {
   "cell_type": "code",
   "execution_count": null,
   "metadata": {},
   "outputs": [],
   "source": [
    "# Comparando os Atributos com o Atributo target CLASS\n",
    "df1 = pd.crosstab(df_car.BUYING, df_car.CLASS) \n",
    "df2 = pd.crosstab(df_car.MAINT, df_car.CLASS) \n",
    "df3 = pd.crosstab(df_car.DOORS, df_car.CLASS) \n",
    "df4 = pd.crosstab(df_car.PERSONS, df_car.CLASS) \n",
    "df5 = pd.crosstab(df_car.LUG_BOOT, df_car.CLASS) "
   ]
  },
  {
   "cell_type": "code",
   "execution_count": null,
   "metadata": {},
   "outputs": [],
   "source": [
    "from IPython.display import display_html\n",
    "\n",
    "# Define a função para exibir os dataframes lado a lado.\n",
    "def display_daframes(lista_dataframes, nomes=[]):\n",
    "    html_str = ''\n",
    "    if nomes:\n",
    "        html_str += ('<tr>' +  ''.join(f'<td style=\"text-align:center\"><span style=\" font-weight: bold\">{name}</span></td>' for name in nomes) +   '</tr>')\n",
    "    \n",
    "    html_str += ('<tr>' +  ''.join(f'<td style=\"vertical-align:top\"> {df.to_html(index=True)}</td>'    for df in lista_dataframes) +  '</tr>')\n",
    "    html_str = f'<table>{html_str}</table>'\n",
    "    html_str = html_str.replace('table','table style=\"display:inline\"')\n",
    "    \n",
    "    display_html(html_str, raw=True)"
   ]
  },
  {
   "cell_type": "code",
   "execution_count": null,
   "metadata": {},
   "outputs": [],
   "source": [
    "print('\\tCruzameto dos Atributos previsores com o Atributo target CLASS')\n",
    "display_daframes( [df1,df2,df3, df4, df5], nomes=['BUYING x Class', 'MAINT x Class', 'DOORS x Class', ' PERSONS x Class', 'LUG_BOOT x Class'])"
   ]
  },
  {
   "cell_type": "code",
   "execution_count": null,
   "metadata": {},
   "outputs": [],
   "source": [
    "# Criando um dataframe Transformando os valores categóricos em valores inteiros\n",
    "df_car_corr = pd.DataFrame()\n",
    "df_car_corr['BUYING'] = df_car['BUYING'].cat.codes\n",
    "df_car_corr['MAINT'] = df_car['MAINT'].cat.codes\n",
    "df_car_corr['DOORS'] = df_car['DOORS'].cat.codes\n",
    "df_car_corr['PERSONS'] = df_car['PERSONS'].cat.codes\n",
    "df_car_corr['LUG_BOOT'] = df_car['LUG_BOOT'].cat.codes\n",
    "df_car_corr['SAFETY'] = df_car['SAFETY'].cat.codes\n",
    "df_car_corr['CLASS'] = df_car['CLASS'].cat.codes"
   ]
  },
  {
   "cell_type": "code",
   "execution_count": null,
   "metadata": {},
   "outputs": [],
   "source": [
    "# Distribuição dos atributos dos dataset\n",
    "df_car_corr.hist(figsize=(8,6))\n",
    "plt.tight_layout()\n",
    "plt.show()"
   ]
  },
  {
   "cell_type": "markdown",
   "metadata": {},
   "source": [
    "# Verificando a correlação dos Dados"
   ]
  },
  {
   "cell_type": "code",
   "execution_count": null,
   "metadata": {},
   "outputs": [],
   "source": [
    "# Plota o gráfico de correlação dos dados.\n",
    "plt.figure(figsize=(8,6))\n",
    "ax1 = sns.heatmap(df_car_corr.astype(float).corr(),linewidths=0.1,vmax=1.0, square=True, annot=True, fmt='.4f', annot_kws={\"size\": 9})\n",
    "plt.title('Correlação dos dados\\n')\n",
    "plt.show()"
   ]
  },
  {
   "cell_type": "markdown",
   "metadata": {},
   "source": [
    "# Preparando os dados para criação do Modelo de Previsão"
   ]
  },
  {
   "cell_type": "code",
   "execution_count": null,
   "metadata": {},
   "outputs": [],
   "source": [
    "# Dividindo os atributos do dataframe \n",
    "\n",
    "# Previsores\n",
    "X = df_car.iloc[:, 0:6].values\n",
    "\n",
    "# Target\n",
    "y = df_car.iloc[:,6].values.astype('str')"
   ]
  },
  {
   "cell_type": "code",
   "execution_count": null,
   "metadata": {},
   "outputs": [],
   "source": [
    "print('Shape dos dados de X e y')\n",
    "print(X.shape)\n",
    "print(y.shape)"
   ]
  },
  {
   "cell_type": "code",
   "execution_count": null,
   "metadata": {},
   "outputs": [],
   "source": [
    "# Transforma os valores categóricos em valores inteiros\n",
    "from sklearn.preprocessing import LabelEncoder\n",
    "x_label_encoder = LabelEncoder()\n",
    "y_label_encoder  = LabelEncoder()\n",
    "\n",
    "# Valores de X (previsores). Altera o Shape dos dados de X.\n",
    "X_le = x_label_encoder.fit_transform(X.ravel())\n",
    "\n",
    "# Valores de Y (alvo)\n",
    "y_le = y_label_encoder.fit_transform(y)"
   ]
  },
  {
   "cell_type": "code",
   "execution_count": null,
   "metadata": {},
   "outputs": [],
   "source": [
    "y_le.shape"
   ]
  },
  {
   "cell_type": "code",
   "execution_count": null,
   "metadata": {},
   "outputs": [],
   "source": [
    "X_le.shape"
   ]
  },
  {
   "cell_type": "code",
   "execution_count": null,
   "metadata": {},
   "outputs": [],
   "source": [
    "# Alterando o Shape do array pra ficar igual ao original, após a condificação.\n",
    "X_le = X_le.reshape(X.shape)\n",
    "X_le.shape"
   ]
  },
  {
   "cell_type": "code",
   "execution_count": null,
   "metadata": {},
   "outputs": [],
   "source": [
    "# Gerando vetores binários para cada valor inteiro\n",
    "from sklearn.preprocessing import OneHotEncoder\n",
    "\n",
    "x_oneHot = OneHotEncoder(categories='auto')"
   ]
  },
  {
   "cell_type": "code",
   "execution_count": null,
   "metadata": {},
   "outputs": [],
   "source": [
    "# Codificando os valores de X em vetores binários\n",
    "X_oh = x_oneHot.fit_transform(X_le.reshape(X.shape)).toarray()\n",
    "X_oh"
   ]
  },
  {
   "cell_type": "code",
   "execution_count": null,
   "metadata": {},
   "outputs": [],
   "source": [
    "# Fazendo a Padronização dos dados\n",
    "from sklearn.preprocessing import StandardScaler\n",
    "\n",
    "#Padroniza os dados de X\n",
    "scale_x = StandardScaler()\n",
    "X_p = scale_x.fit_transform(X_oh.astype(float))"
   ]
  },
  {
   "cell_type": "code",
   "execution_count": null,
   "metadata": {},
   "outputs": [],
   "source": [
    "X_p.shape"
   ]
  },
  {
   "cell_type": "code",
   "execution_count": null,
   "metadata": {},
   "outputs": [],
   "source": [
    "X_p"
   ]
  },
  {
   "cell_type": "markdown",
   "metadata": {},
   "source": [
    "# Testando Alguns Modelos de Machine Learning"
   ]
  },
  {
   "cell_type": "code",
   "execution_count": null,
   "metadata": {},
   "outputs": [],
   "source": [
    "# Importando as bibliotecas dos modelos\n",
    "from sklearn import model_selection\n",
    "from sklearn.ensemble import AdaBoostClassifier\n",
    "from sklearn.ensemble import GradientBoostingClassifier\n",
    "from sklearn.ensemble import RandomForestClassifier\n",
    "from sklearn.ensemble import ExtraTreesClassifier\n",
    "from sklearn.tree import DecisionTreeClassifier\n",
    "from sklearn.neighbors import KNeighborsClassifier\n",
    "from sklearn.discriminant_analysis import LinearDiscriminantAnalysis\n",
    "from sklearn.naive_bayes import GaussianNB\n",
    "from sklearn.linear_model import LogisticRegression\n",
    "from sklearn.svm import SVC\n",
    "import xgboost"
   ]
  },
  {
   "cell_type": "code",
   "execution_count": null,
   "metadata": {},
   "outputs": [],
   "source": [
    "# Defindo os parâmetos do FOLD\n",
    "qtd_instancias = len(X_p)\n",
    "qtd_folds = 23\n",
    "seed = 7\n",
    "\n",
    "# Criando a lista de modelos para avaliação.\n",
    "modelos = []\n",
    "modelos.append(('AdaBoostClassifier', AdaBoostClassifier()))\n",
    "modelos.append(('GradientBoostingClassifier', GradientBoostingClassifier()))\n",
    "modelos.append(('RandomForestClassifier', RandomForestClassifier(n_estimators=10)))\n",
    "modelos.append(('ExtraTreesClassifier', ExtraTreesClassifier(n_estimators=10)))\n",
    "modelos.append(('DecisionTreeClassifier', DecisionTreeClassifier()))\n",
    "modelos.append(('KNeighborsClassifier', KNeighborsClassifier()))\n",
    "modelos.append(('GaussianNB', GaussianNB()))\n",
    "modelos.append(('LogisticRegression', LogisticRegression(solver='lbfgs', multi_class='auto', max_iter=10000)))\n",
    "modelos.append(('SVC', SVC()))\n",
    "modelos.append(('xgboost', xgboost.XGBClassifier()))"
   ]
  },
  {
   "cell_type": "code",
   "execution_count": null,
   "metadata": {},
   "outputs": [],
   "source": []
  },
  {
   "cell_type": "code",
   "execution_count": null,
   "metadata": {},
   "outputs": [],
   "source": [
    "# Definindo as listas para análise dos resultados.\n",
    "resultados = []\n",
    "nomes_modelos = []\n",
    "tempo_treinamento_modelos = []\n",
    "\n",
    "# Treina os Modelos\n",
    "for nome_modelo, modelo in modelos:\n",
    "    kfold = model_selection.KFold(n_splits=qtd_folds, random_state=seed)\n",
    "    #print(nome_modelo)\n",
    "    #Define o tempo de inicio do Treinamento\n",
    "    inicio = datetime.now()\n",
    "\n",
    "    resultados_cros_val = model_selection.cross_val_score(modelo, X_p, y_le.ravel(), cv=kfold, scoring='accuracy')\n",
    "    \n",
    "    #Define o tempo final do Treinamento\n",
    "    fim = datetime.now()   \n",
    "    tempo_modelo = (fim - inicio).total_seconds()\n",
    "    tempo_treinamento_modelos.append( tempo_modelo)\n",
    "    \n",
    "    resultados.append(resultados_cros_val)   \n",
    "    nomes_modelos.append(nome_modelo)        \n",
    "    \n",
    "    print(\"\\n%s: Acurácia: %.4f (Desvio Padrão: %.4f)\"  % (nome_modelo, resultados_cros_val.mean(), resultados_cros_val.std()) )\n",
    "    print('Tempo de Treinamento: %s segundos' % tempo_modelo )    "
   ]
  },
  {
   "cell_type": "code",
   "execution_count": null,
   "metadata": {},
   "outputs": [],
   "source": []
  },
  {
   "cell_type": "code",
   "execution_count": null,
   "metadata": {},
   "outputs": [],
   "source": [
    "#Plota um gráfico de Comparação dos Algoritmos de Classificação\n",
    "\n",
    "# Prepara os dados do Plot\n",
    "resul_AdaBoostClassifier = resultados[0]\n",
    "resul_GradientBoostingClassifier = resultados[1]\n",
    "resul_RandomForestClassifier = resultados[2]\n",
    "resul_ExtraTreesClassifier = resultados[3]\n",
    "resul_DecisionTreeClassifier = resultados[4]\n",
    "resul_KNeighborsClassifier = resultados[5]\n",
    "resul_GaussianNB = resultados[6]\n",
    "resul_LogisticRegression = resultados[7]\n",
    "#resul_LogisticRegressionCV = resultados[8]\n",
    "resul_SVC = resultados[8]\n",
    "resul_xgboost = resultados[9]\n",
    "\n",
    "# Configura o Plot.\n",
    "trace0= go.Box(y=resul_AdaBoostClassifier , name = 'AdaBoostClassifier ')\n",
    "trace1= go.Box(y=resul_GradientBoostingClassifier , name = 'GradientBoostingClassifier ')\n",
    "trace2= go.Box(y=resul_RandomForestClassifier , name = 'RandomForestClassifier ')\n",
    "trace3= go.Box(y=resul_ExtraTreesClassifier , name = 'ExtraTreesClassifier ')\n",
    "trace4= go.Box(y=resul_DecisionTreeClassifier , name = 'DecisionTreeClassifier ')\n",
    "trace5= go.Box(y=resul_KNeighborsClassifier , name = 'KNeighborsClassifier ')\n",
    "trace6= go.Box(y=resul_GaussianNB , name = 'GaussianNB ')\n",
    "trace7= go.Box(y=resul_LogisticRegression , name = 'LogisticRegression ')\n",
    "trace8= go.Box(y=resul_SVC , name = 'SVC ')\n",
    "trace9= go.Box(y=resul_xgboost , name = 'xgboost', )\n",
    "\n",
    "data = [trace0,trace1,trace2,trace3,trace4,trace5,trace6,trace7,trace8,trace9]\n",
    "\n",
    "layout = go.Layout(yaxis=dict(title='acurácia') ,title='Comparação dos Algoritmos de Classificação', showlegend=False)\n",
    "fig = go.Figure(data=data, layout=layout )\n",
    "py.iplot(fig )"
   ]
  },
  {
   "cell_type": "code",
   "execution_count": null,
   "metadata": {},
   "outputs": [],
   "source": []
  },
  {
   "cell_type": "code",
   "execution_count": null,
   "metadata": {},
   "outputs": [],
   "source": [
    "#Plota um gráfico de Comparação dos Tempo de treinamentodos Algoritmos de Classificação\n",
    "cores = ['rgb(31, 119, 180)',\n",
    " 'rgb(255, 127, 14)',\n",
    " 'rgb(44, 160, 44)',\n",
    " 'rgb(214, 39, 40)',\n",
    " 'rgb(148, 103, 189)',\n",
    " 'rgb(140, 86, 75)',\n",
    " 'rgb(227, 119, 194)',\n",
    " 'rgb(127, 127, 127)',\n",
    " 'rgb(188, 189, 34)',\n",
    " 'rgb(23, 190, 207)']\n",
    "\n",
    "trace0= go.Bar(y=tempo_treinamento_modelos, x=nomes_modelos, textposition = 'auto', text=tempo_treinamento_modelos,  marker=dict(color=cores),opacity=0.7  )\n",
    "data=[trace0]\n",
    "\n",
    "layout = go.Layout(yaxis=dict(title='segundos') ,title='Tempo para treinamento dos Algoritmos de Classificação')\n",
    "fig = go.Figure(data=data, layout=layout )\n",
    "py.iplot(fig )\n"
   ]
  },
  {
   "cell_type": "markdown",
   "metadata": {},
   "source": [
    "# Escolhendo um Modelo de Previsão"
   ]
  },
  {
   "cell_type": "code",
   "execution_count": null,
   "metadata": {},
   "outputs": [],
   "source": [
    "# O algoritmo de classificação que obteve o melhor resultado, apesar do maior tempo para treinamento, foi o GradientBoostingClassifier. Vamos selecionar ele.\n",
    "# Criando o Modelo\n",
    "classificador = GradientBoostingClassifier(n_estimators=200)"
   ]
  },
  {
   "cell_type": "code",
   "execution_count": null,
   "metadata": {},
   "outputs": [],
   "source": [
    "# Separando os dados de Treinamento e Teste\n",
    "from sklearn.model_selection import train_test_split\n",
    "\n",
    "X_treinamento, X_teste, y_treinamento, y_teste = train_test_split(X_p, y_le, test_size = 0.3)"
   ]
  },
  {
   "cell_type": "code",
   "execution_count": null,
   "metadata": {},
   "outputs": [],
   "source": [
    "print('Shape dos dados de Treinamento')\n",
    "print(X_treinamento.shape)\n",
    "print(y_treinamento.shape)"
   ]
  },
  {
   "cell_type": "code",
   "execution_count": null,
   "metadata": {},
   "outputs": [],
   "source": [
    "print('Shape dos dados de Teste')\n",
    "print(X_teste.shape)\n",
    "print(y_teste.shape)"
   ]
  },
  {
   "cell_type": "code",
   "execution_count": null,
   "metadata": {},
   "outputs": [],
   "source": [
    "# Treinando o modelo selecionado\n",
    "classificador.fit(X_treinamento, y_treinamento);"
   ]
  },
  {
   "cell_type": "code",
   "execution_count": null,
   "metadata": {},
   "outputs": [],
   "source": [
    "# Realiza a previsão com os dados de Teste\n",
    "y_previsto = classificador.predict(X_teste)"
   ]
  },
  {
   "cell_type": "code",
   "execution_count": null,
   "metadata": {},
   "outputs": [],
   "source": [
    "# Identificando o nome da classe de acordo com a codificação\n",
    "#acc = 0  #good = 1 #unacc = 2 #vgood = 3\n",
    "nome_classe = ['acc', 'good', 'unacc', 'vgood']"
   ]
  },
  {
   "cell_type": "code",
   "execution_count": null,
   "metadata": {},
   "outputs": [],
   "source": [
    "# Relatório de Classificação\n",
    "#precision -  daqueles que classifiquei como corretos, quantos efetivamente estavam corretos? \n",
    "#recall    -  quando realmente é da classe XPTO, o quão frequente você classifica como XPTO?\n",
    "#f1-score  -  balanço entre a precisão e o recall. Combina precisão e recall em um número único que indique a qualidade geral do seu modelo (quanto maior melhor o modelo).\n",
    "#support   -  número de ocorrência de cada classe.\n",
    "\n",
    "from sklearn.metrics import classification_report\n",
    "relatorio_classificacao = classification_report(y_teste, y_previsto, target_names=nome_classe ,digits=4)\n",
    "\n",
    "# Imprimindo o relatório\n",
    "print('\\tRelatório de Classificação do modelo')\n",
    "print(relatorio_classificacao)"
   ]
  },
  {
   "cell_type": "code",
   "execution_count": null,
   "metadata": {},
   "outputs": [],
   "source": [
    "# Visualizar a Matriz de confusão (confusion matrix)\n",
    "from sklearn.metrics import confusion_matrix\n",
    "cm = confusion_matrix(y_teste, y_previsto) \n",
    "\n",
    "df_cm = pd.DataFrame(cm, nome_classe,  nome_classe)\n",
    "\n",
    "print('Obs.: Nas linhas temos as Classes reais e nas colunas as Classes previstas.\\n')\n",
    "print('\\tMatriz de Confusão')\n",
    "df_cm"
   ]
  },
  {
   "cell_type": "code",
   "execution_count": null,
   "metadata": {},
   "outputs": [],
   "source": []
  },
  {
   "cell_type": "markdown",
   "metadata": {},
   "source": [
    "# Exibindo os dados de Teste após a Previsão"
   ]
  },
  {
   "cell_type": "code",
   "execution_count": null,
   "metadata": {},
   "outputs": [],
   "source": [
    "# Reverte a alteração da escala feita anteriormente\n",
    "X_teste_scale = scale_x.inverse_transform(X_teste)\n",
    "X_teste_scale.shape"
   ]
  },
  {
   "cell_type": "code",
   "execution_count": null,
   "metadata": {},
   "outputs": [],
   "source": [
    "# Reverte a alteração do onehot feita anteriormente\n",
    "X_teste_oh = x_oneHot.inverse_transform(X_teste_scale)\n",
    "X_teste_oh.shape"
   ]
  },
  {
   "cell_type": "code",
   "execution_count": null,
   "metadata": {},
   "outputs": [],
   "source": [
    "# Reverte a transformação para os valores originais feitas pelo Label Encoder feita anteriormente\n",
    "X_teste_le = x_label_encoder.inverse_transform(X_teste_oh.ravel())\n",
    "X_teste_le.shape"
   ]
  },
  {
   "cell_type": "code",
   "execution_count": null,
   "metadata": {},
   "outputs": [],
   "source": [
    "X_teste_le = X_teste_le.reshape(X_teste_oh.shape)\n",
    "X_teste_le.shape"
   ]
  },
  {
   "cell_type": "code",
   "execution_count": null,
   "metadata": {},
   "outputs": [],
   "source": [
    "df_previsores = pd.DataFrame(X_teste_le, columns=['BUYING', 'MAINT', 'DOORS', 'PERSONS' , 'LUG_BOOT', 'SAFETY'])\n",
    "#df_previsores.head()"
   ]
  },
  {
   "cell_type": "code",
   "execution_count": null,
   "metadata": {},
   "outputs": [],
   "source": [
    "# Reverte a transformação para os valores originais feitas pelo Label Encoder feita anteriormente\n",
    "y_previsto_it = y_label_encoder.inverse_transform(y_previsto.ravel())"
   ]
  },
  {
   "cell_type": "code",
   "execution_count": null,
   "metadata": {},
   "outputs": [],
   "source": [
    "# Reverte a transformação para os valores originais feitas pelo Label Encoder feita anteriormente\n",
    "y_teste_it = y_label_encoder.inverse_transform(y_teste.ravel())"
   ]
  },
  {
   "cell_type": "code",
   "execution_count": null,
   "metadata": {},
   "outputs": [],
   "source": [
    "# Dataframe com a classe Real\n",
    "df_prev = pd.DataFrame(y_previsto_it, columns=['CLASSE_PREVISTA'])\n",
    "\n",
    "# Dataframe com a classe Prevista\n",
    "df_real = pd.DataFrame(y_teste_it, columns=['CLASSE_REAL'])\n",
    "\n",
    "# Juntando os dois dataframes\n",
    "df_target = pd.merge(df_real, df_prev, right_index=True, left_index=True)\n",
    "df_target['CLASSE_PREVISTA_CORRETAMENTE'] = df_target.CLASSE_PREVISTA == df_target.CLASSE_REAL\n"
   ]
  },
  {
   "cell_type": "code",
   "execution_count": null,
   "metadata": {},
   "outputs": [],
   "source": [
    "# Agora juntando os dataframes de previsores e target\n",
    "df_merge = pd.merge(df_previsores, df_target, right_index=True, left_index=True)"
   ]
  },
  {
   "cell_type": "code",
   "execution_count": null,
   "metadata": {},
   "outputs": [],
   "source": [
    "# Exibindo somente os registros onde houve erro na previsão da classe.\n",
    "df_merge[df_merge.CLASSE_PREVISTA_CORRETAMENTE==False]"
   ]
  },
  {
   "cell_type": "code",
   "execution_count": null,
   "metadata": {},
   "outputs": [],
   "source": [
    "# Exibindo a quantidade.\n",
    "df_merge.groupby(['CLASSE_PREVISTA_CORRETAMENTE']).count()"
   ]
  },
  {
   "cell_type": "code",
   "execution_count": null,
   "metadata": {},
   "outputs": [],
   "source": []
  }
 ],
 "metadata": {
  "kernelspec": {
   "display_name": "Python 3",
   "language": "python",
   "name": "python3"
  },
  "language_info": {
   "codemirror_mode": {
    "name": "ipython",
    "version": 3
   },
   "file_extension": ".py",
   "mimetype": "text/x-python",
   "name": "python",
   "nbconvert_exporter": "python",
   "pygments_lexer": "ipython3",
   "version": "3.7.7"
  }
 },
 "nbformat": 4,
 "nbformat_minor": 4
}
